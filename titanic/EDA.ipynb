{
 "cells": [
  {
   "cell_type": "code",
   "execution_count": 1,
   "metadata": {},
   "outputs": [],
   "source": [
    "import pandas as pd\n",
    "import numpy as np"
   ]
  },
  {
   "cell_type": "code",
   "execution_count": 2,
   "metadata": {},
   "outputs": [],
   "source": [
    "df = pd.read_csv(\"https://raw.githubusercontent.com/datasciencedojo/datasets/refs/heads/master/titanic.csv\")"
   ]
  },
  {
   "cell_type": "code",
   "execution_count": 3,
   "metadata": {},
   "outputs": [
    {
     "data": {
      "text/html": [
       "<div>\n",
       "<style scoped>\n",
       "    .dataframe tbody tr th:only-of-type {\n",
       "        vertical-align: middle;\n",
       "    }\n",
       "\n",
       "    .dataframe tbody tr th {\n",
       "        vertical-align: top;\n",
       "    }\n",
       "\n",
       "    .dataframe thead th {\n",
       "        text-align: right;\n",
       "    }\n",
       "</style>\n",
       "<table border=\"1\" class=\"dataframe\">\n",
       "  <thead>\n",
       "    <tr style=\"text-align: right;\">\n",
       "      <th></th>\n",
       "      <th>PassengerId</th>\n",
       "      <th>Survived</th>\n",
       "      <th>Pclass</th>\n",
       "      <th>Name</th>\n",
       "      <th>Sex</th>\n",
       "      <th>Age</th>\n",
       "      <th>SibSp</th>\n",
       "      <th>Parch</th>\n",
       "      <th>Ticket</th>\n",
       "      <th>Fare</th>\n",
       "      <th>Cabin</th>\n",
       "      <th>Embarked</th>\n",
       "    </tr>\n",
       "  </thead>\n",
       "  <tbody>\n",
       "    <tr>\n",
       "      <th>0</th>\n",
       "      <td>1</td>\n",
       "      <td>0</td>\n",
       "      <td>3</td>\n",
       "      <td>Braund, Mr. Owen Harris</td>\n",
       "      <td>male</td>\n",
       "      <td>22.0</td>\n",
       "      <td>1</td>\n",
       "      <td>0</td>\n",
       "      <td>A/5 21171</td>\n",
       "      <td>7.2500</td>\n",
       "      <td>NaN</td>\n",
       "      <td>S</td>\n",
       "    </tr>\n",
       "    <tr>\n",
       "      <th>1</th>\n",
       "      <td>2</td>\n",
       "      <td>1</td>\n",
       "      <td>1</td>\n",
       "      <td>Cumings, Mrs. John Bradley (Florence Briggs Th...</td>\n",
       "      <td>female</td>\n",
       "      <td>38.0</td>\n",
       "      <td>1</td>\n",
       "      <td>0</td>\n",
       "      <td>PC 17599</td>\n",
       "      <td>71.2833</td>\n",
       "      <td>C85</td>\n",
       "      <td>C</td>\n",
       "    </tr>\n",
       "    <tr>\n",
       "      <th>2</th>\n",
       "      <td>3</td>\n",
       "      <td>1</td>\n",
       "      <td>3</td>\n",
       "      <td>Heikkinen, Miss. Laina</td>\n",
       "      <td>female</td>\n",
       "      <td>26.0</td>\n",
       "      <td>0</td>\n",
       "      <td>0</td>\n",
       "      <td>STON/O2. 3101282</td>\n",
       "      <td>7.9250</td>\n",
       "      <td>NaN</td>\n",
       "      <td>S</td>\n",
       "    </tr>\n",
       "    <tr>\n",
       "      <th>3</th>\n",
       "      <td>4</td>\n",
       "      <td>1</td>\n",
       "      <td>1</td>\n",
       "      <td>Futrelle, Mrs. Jacques Heath (Lily May Peel)</td>\n",
       "      <td>female</td>\n",
       "      <td>35.0</td>\n",
       "      <td>1</td>\n",
       "      <td>0</td>\n",
       "      <td>113803</td>\n",
       "      <td>53.1000</td>\n",
       "      <td>C123</td>\n",
       "      <td>S</td>\n",
       "    </tr>\n",
       "    <tr>\n",
       "      <th>4</th>\n",
       "      <td>5</td>\n",
       "      <td>0</td>\n",
       "      <td>3</td>\n",
       "      <td>Allen, Mr. William Henry</td>\n",
       "      <td>male</td>\n",
       "      <td>35.0</td>\n",
       "      <td>0</td>\n",
       "      <td>0</td>\n",
       "      <td>373450</td>\n",
       "      <td>8.0500</td>\n",
       "      <td>NaN</td>\n",
       "      <td>S</td>\n",
       "    </tr>\n",
       "  </tbody>\n",
       "</table>\n",
       "</div>"
      ],
      "text/plain": [
       "   PassengerId  Survived  Pclass  \\\n",
       "0            1         0       3   \n",
       "1            2         1       1   \n",
       "2            3         1       3   \n",
       "3            4         1       1   \n",
       "4            5         0       3   \n",
       "\n",
       "                                                Name     Sex   Age  SibSp  \\\n",
       "0                            Braund, Mr. Owen Harris    male  22.0      1   \n",
       "1  Cumings, Mrs. John Bradley (Florence Briggs Th...  female  38.0      1   \n",
       "2                             Heikkinen, Miss. Laina  female  26.0      0   \n",
       "3       Futrelle, Mrs. Jacques Heath (Lily May Peel)  female  35.0      1   \n",
       "4                           Allen, Mr. William Henry    male  35.0      0   \n",
       "\n",
       "   Parch            Ticket     Fare Cabin Embarked  \n",
       "0      0         A/5 21171   7.2500   NaN        S  \n",
       "1      0          PC 17599  71.2833   C85        C  \n",
       "2      0  STON/O2. 3101282   7.9250   NaN        S  \n",
       "3      0            113803  53.1000  C123        S  \n",
       "4      0            373450   8.0500   NaN        S  "
      ]
     },
     "execution_count": 3,
     "metadata": {},
     "output_type": "execute_result"
    }
   ],
   "source": [
    "df.head()"
   ]
  },
  {
   "cell_type": "code",
   "execution_count": 4,
   "metadata": {},
   "outputs": [],
   "source": [
    "target = df[\"Survived\"]\n",
    "df.drop(columns=\"PassengerId\",inplace=True)"
   ]
  },
  {
   "cell_type": "markdown",
   "metadata": {},
   "source": [
    "# Intenciones \n",
    "\n",
    "En este EDA mi intencio es explorar las caracteristicas de las personas que sobreviven y la de las que no sobreviven \n",
    "\n",
    "**Preguntas Interesantes**\n",
    "\n",
    "1. Ser Mujer mejoraba tus posibilidades de Supervivencia?\n",
    "2. Que rango etario es el que mas sobrevivia\n",
    "3. Tener un Status elevado en la sociedad mejoraba tus posibilidades de supervivencia?\n",
    "4. Gastar mas dinero en Tickets mejoraba tus chances de sobrevivir?\n",
    "5. Pertenecer a primera clase aumenta tus posibilidades de sobrevivir?\n",
    "6. Tener hijos hace que tus posibilidades de supervivencia mejoren?\n",
    "7. Existia camaraderia entre personas que embarcaban en el mismo puerto que mejorara sus chances de sobrevivir?"
   ]
  },
  {
   "cell_type": "markdown",
   "metadata": {},
   "source": [
    "# Indice \n",
    "1. [Missing Values](#handeling-missing-values)\n",
    "2. [Duplicated Values](#handeling-duplicates)\n",
    "3. [Analisis de Tipo de Datos](#analisis-de-tipo-de-datos)\n",
    "4. [Data Distribucion](#exploring-data-distributions)\n",
    "5. [Numerical](#numerical-data)\n",
    "6. [Categorical](#categorical-data)\n",
    "7. [survivor's composition](#exploring-composition)\n",
    "8. [Sex](#sex-survivement)\n",
    "9. [Passanger Class](#pclass-survivement)\n",
    "10. [Siblings and Children](#sibsp-survivement)\n",
    "11. [Embarkation](#embarked-survivement)\n",
    "12. [Fare](#fare-survivement)\n",
    "13. [Category](#age-category-survivement)\n",
    "14. [Name Titles](#exploring-name-titles)\n",
    "15. [Summary](#summary)\n",
    "16. [Relationships](#exploring-data-relationships)\n",
    "17. [Categorical Survivemt](#exploring-the-relationships-between-categorical-data-and-survivement)\n",
    "18. [Chi2](#chi-cuadrado)\n",
    "19. [Anova](#anova)"
   ]
  },
  {
   "cell_type": "markdown",
   "metadata": {},
   "source": [
    "# Handeling Missing Values"
   ]
  },
  {
   "cell_type": "code",
   "execution_count": 5,
   "metadata": {},
   "outputs": [
    {
     "data": {
      "text/plain": [
       "Survived     0.000000\n",
       "Pclass       0.000000\n",
       "Name         0.000000\n",
       "Sex          0.000000\n",
       "Age         19.865320\n",
       "SibSp        0.000000\n",
       "Parch        0.000000\n",
       "Ticket       0.000000\n",
       "Fare         0.000000\n",
       "Cabin       77.104377\n",
       "Embarked     0.224467\n",
       "dtype: float64"
      ]
     },
     "execution_count": 5,
     "metadata": {},
     "output_type": "execute_result"
    }
   ],
   "source": [
    "(df.isna().sum()/len(df))*100"
   ]
  },
  {
   "cell_type": "code",
   "execution_count": 6,
   "metadata": {},
   "outputs": [],
   "source": [
    "df.drop(columns=\"Cabin\",inplace=True)"
   ]
  },
  {
   "cell_type": "code",
   "execution_count": 7,
   "metadata": {},
   "outputs": [],
   "source": [
    "df[\"Embarked\"].ffill(inplace=True)"
   ]
  },
  {
   "cell_type": "code",
   "execution_count": 8,
   "metadata": {},
   "outputs": [],
   "source": [
    "df[\"Age\"].fillna(df[\"Age\"].mean(),inplace=True)"
   ]
  },
  {
   "cell_type": "code",
   "execution_count": 9,
   "metadata": {},
   "outputs": [
    {
     "data": {
      "text/plain": [
       "Survived    0.0\n",
       "Pclass      0.0\n",
       "Name        0.0\n",
       "Sex         0.0\n",
       "Age         0.0\n",
       "SibSp       0.0\n",
       "Parch       0.0\n",
       "Ticket      0.0\n",
       "Fare        0.0\n",
       "Embarked    0.0\n",
       "dtype: float64"
      ]
     },
     "execution_count": 9,
     "metadata": {},
     "output_type": "execute_result"
    }
   ],
   "source": [
    "(df.isna().sum()/len(df))*100"
   ]
  },
  {
   "cell_type": "markdown",
   "metadata": {},
   "source": [
    "# Handeling Duplicates"
   ]
  },
  {
   "cell_type": "code",
   "execution_count": 10,
   "metadata": {},
   "outputs": [
    {
     "data": {
      "text/html": [
       "<div>\n",
       "<style scoped>\n",
       "    .dataframe tbody tr th:only-of-type {\n",
       "        vertical-align: middle;\n",
       "    }\n",
       "\n",
       "    .dataframe tbody tr th {\n",
       "        vertical-align: top;\n",
       "    }\n",
       "\n",
       "    .dataframe thead th {\n",
       "        text-align: right;\n",
       "    }\n",
       "</style>\n",
       "<table border=\"1\" class=\"dataframe\">\n",
       "  <thead>\n",
       "    <tr style=\"text-align: right;\">\n",
       "      <th></th>\n",
       "      <th>Survived</th>\n",
       "      <th>Pclass</th>\n",
       "      <th>Name</th>\n",
       "      <th>Sex</th>\n",
       "      <th>Age</th>\n",
       "      <th>SibSp</th>\n",
       "      <th>Parch</th>\n",
       "      <th>Ticket</th>\n",
       "      <th>Fare</th>\n",
       "      <th>Embarked</th>\n",
       "    </tr>\n",
       "  </thead>\n",
       "  <tbody>\n",
       "  </tbody>\n",
       "</table>\n",
       "</div>"
      ],
      "text/plain": [
       "Empty DataFrame\n",
       "Columns: [Survived, Pclass, Name, Sex, Age, SibSp, Parch, Ticket, Fare, Embarked]\n",
       "Index: []"
      ]
     },
     "execution_count": 10,
     "metadata": {},
     "output_type": "execute_result"
    }
   ],
   "source": [
    "test = df.duplicated()\n",
    "df[test]"
   ]
  },
  {
   "cell_type": "markdown",
   "metadata": {},
   "source": [
    "# Analisis de Tipo de Datos"
   ]
  },
  {
   "cell_type": "code",
   "execution_count": 11,
   "metadata": {},
   "outputs": [
    {
     "name": "stdout",
     "output_type": "stream",
     "text": [
      "<class 'pandas.core.frame.DataFrame'>\n",
      "RangeIndex: 891 entries, 0 to 890\n",
      "Data columns (total 10 columns):\n",
      " #   Column    Non-Null Count  Dtype  \n",
      "---  ------    --------------  -----  \n",
      " 0   Survived  891 non-null    int64  \n",
      " 1   Pclass    891 non-null    int64  \n",
      " 2   Name      891 non-null    object \n",
      " 3   Sex       891 non-null    object \n",
      " 4   Age       891 non-null    float64\n",
      " 5   SibSp     891 non-null    int64  \n",
      " 6   Parch     891 non-null    int64  \n",
      " 7   Ticket    891 non-null    object \n",
      " 8   Fare      891 non-null    float64\n",
      " 9   Embarked  891 non-null    object \n",
      "dtypes: float64(2), int64(4), object(4)\n",
      "memory usage: 69.7+ KB\n"
     ]
    }
   ],
   "source": [
    "df.info()"
   ]
  },
  {
   "cell_type": "code",
   "execution_count": 12,
   "metadata": {},
   "outputs": [],
   "source": [
    "df_numeric = df.select_dtypes([\"int64\",\"float64\"])\n",
    "df_objet = df.select_dtypes(\"object\")\n",
    "df_categorical = df.select_dtypes(\"object\")"
   ]
  },
  {
   "cell_type": "code",
   "execution_count": 13,
   "metadata": {},
   "outputs": [],
   "source": [
    "df_numeric.drop(columns=\"Survived\", inplace=True)"
   ]
  },
  {
   "cell_type": "code",
   "execution_count": 14,
   "metadata": {},
   "outputs": [
    {
     "data": {
      "text/html": [
       "<div>\n",
       "<style scoped>\n",
       "    .dataframe tbody tr th:only-of-type {\n",
       "        vertical-align: middle;\n",
       "    }\n",
       "\n",
       "    .dataframe tbody tr th {\n",
       "        vertical-align: top;\n",
       "    }\n",
       "\n",
       "    .dataframe thead th {\n",
       "        text-align: right;\n",
       "    }\n",
       "</style>\n",
       "<table border=\"1\" class=\"dataframe\">\n",
       "  <thead>\n",
       "    <tr style=\"text-align: right;\">\n",
       "      <th></th>\n",
       "      <th>Pclass</th>\n",
       "      <th>Age</th>\n",
       "      <th>SibSp</th>\n",
       "      <th>Parch</th>\n",
       "      <th>Fare</th>\n",
       "    </tr>\n",
       "  </thead>\n",
       "  <tbody>\n",
       "    <tr>\n",
       "      <th>0</th>\n",
       "      <td>3</td>\n",
       "      <td>22.0</td>\n",
       "      <td>1</td>\n",
       "      <td>0</td>\n",
       "      <td>7.2500</td>\n",
       "    </tr>\n",
       "    <tr>\n",
       "      <th>1</th>\n",
       "      <td>1</td>\n",
       "      <td>38.0</td>\n",
       "      <td>1</td>\n",
       "      <td>0</td>\n",
       "      <td>71.2833</td>\n",
       "    </tr>\n",
       "    <tr>\n",
       "      <th>2</th>\n",
       "      <td>3</td>\n",
       "      <td>26.0</td>\n",
       "      <td>0</td>\n",
       "      <td>0</td>\n",
       "      <td>7.9250</td>\n",
       "    </tr>\n",
       "    <tr>\n",
       "      <th>3</th>\n",
       "      <td>1</td>\n",
       "      <td>35.0</td>\n",
       "      <td>1</td>\n",
       "      <td>0</td>\n",
       "      <td>53.1000</td>\n",
       "    </tr>\n",
       "    <tr>\n",
       "      <th>4</th>\n",
       "      <td>3</td>\n",
       "      <td>35.0</td>\n",
       "      <td>0</td>\n",
       "      <td>0</td>\n",
       "      <td>8.0500</td>\n",
       "    </tr>\n",
       "  </tbody>\n",
       "</table>\n",
       "</div>"
      ],
      "text/plain": [
       "   Pclass   Age  SibSp  Parch     Fare\n",
       "0       3  22.0      1      0   7.2500\n",
       "1       1  38.0      1      0  71.2833\n",
       "2       3  26.0      0      0   7.9250\n",
       "3       1  35.0      1      0  53.1000\n",
       "4       3  35.0      0      0   8.0500"
      ]
     },
     "execution_count": 14,
     "metadata": {},
     "output_type": "execute_result"
    }
   ],
   "source": [
    "df_numeric.head()"
   ]
  },
  {
   "cell_type": "code",
   "execution_count": 15,
   "metadata": {},
   "outputs": [],
   "source": [
    "#im moving Pclass, SibSp and Parch to a categorical df to have it separated\n",
    "df_categorical[\"SibSp\"] = df_numeric[\"SibSp\"] \n",
    "df_categorical[\"Parch\"] = df_numeric[\"Parch\"] \n",
    "df_categorical[\"Pclass\"] = df_numeric[\"Pclass\"] \n",
    "df_categorical.drop(columns=[\"Name\",\"Ticket\"],inplace=True)"
   ]
  },
  {
   "cell_type": "code",
   "execution_count": 16,
   "metadata": {},
   "outputs": [
    {
     "data": {
      "text/html": [
       "<div>\n",
       "<style scoped>\n",
       "    .dataframe tbody tr th:only-of-type {\n",
       "        vertical-align: middle;\n",
       "    }\n",
       "\n",
       "    .dataframe tbody tr th {\n",
       "        vertical-align: top;\n",
       "    }\n",
       "\n",
       "    .dataframe thead th {\n",
       "        text-align: right;\n",
       "    }\n",
       "</style>\n",
       "<table border=\"1\" class=\"dataframe\">\n",
       "  <thead>\n",
       "    <tr style=\"text-align: right;\">\n",
       "      <th></th>\n",
       "      <th>Pclass</th>\n",
       "      <th>Age</th>\n",
       "      <th>SibSp</th>\n",
       "      <th>Parch</th>\n",
       "      <th>Fare</th>\n",
       "    </tr>\n",
       "  </thead>\n",
       "  <tbody>\n",
       "    <tr>\n",
       "      <th>0</th>\n",
       "      <td>3</td>\n",
       "      <td>22.0</td>\n",
       "      <td>1</td>\n",
       "      <td>0</td>\n",
       "      <td>7.2500</td>\n",
       "    </tr>\n",
       "    <tr>\n",
       "      <th>1</th>\n",
       "      <td>1</td>\n",
       "      <td>38.0</td>\n",
       "      <td>1</td>\n",
       "      <td>0</td>\n",
       "      <td>71.2833</td>\n",
       "    </tr>\n",
       "    <tr>\n",
       "      <th>2</th>\n",
       "      <td>3</td>\n",
       "      <td>26.0</td>\n",
       "      <td>0</td>\n",
       "      <td>0</td>\n",
       "      <td>7.9250</td>\n",
       "    </tr>\n",
       "    <tr>\n",
       "      <th>3</th>\n",
       "      <td>1</td>\n",
       "      <td>35.0</td>\n",
       "      <td>1</td>\n",
       "      <td>0</td>\n",
       "      <td>53.1000</td>\n",
       "    </tr>\n",
       "    <tr>\n",
       "      <th>4</th>\n",
       "      <td>3</td>\n",
       "      <td>35.0</td>\n",
       "      <td>0</td>\n",
       "      <td>0</td>\n",
       "      <td>8.0500</td>\n",
       "    </tr>\n",
       "  </tbody>\n",
       "</table>\n",
       "</div>"
      ],
      "text/plain": [
       "   Pclass   Age  SibSp  Parch     Fare\n",
       "0       3  22.0      1      0   7.2500\n",
       "1       1  38.0      1      0  71.2833\n",
       "2       3  26.0      0      0   7.9250\n",
       "3       1  35.0      1      0  53.1000\n",
       "4       3  35.0      0      0   8.0500"
      ]
     },
     "execution_count": 16,
     "metadata": {},
     "output_type": "execute_result"
    }
   ],
   "source": [
    "df_numeric.head()"
   ]
  },
  {
   "cell_type": "code",
   "execution_count": 17,
   "metadata": {},
   "outputs": [
    {
     "data": {
      "text/html": [
       "<div>\n",
       "<style scoped>\n",
       "    .dataframe tbody tr th:only-of-type {\n",
       "        vertical-align: middle;\n",
       "    }\n",
       "\n",
       "    .dataframe tbody tr th {\n",
       "        vertical-align: top;\n",
       "    }\n",
       "\n",
       "    .dataframe thead th {\n",
       "        text-align: right;\n",
       "    }\n",
       "</style>\n",
       "<table border=\"1\" class=\"dataframe\">\n",
       "  <thead>\n",
       "    <tr style=\"text-align: right;\">\n",
       "      <th></th>\n",
       "      <th>Name</th>\n",
       "      <th>Sex</th>\n",
       "      <th>Ticket</th>\n",
       "      <th>Embarked</th>\n",
       "    </tr>\n",
       "  </thead>\n",
       "  <tbody>\n",
       "    <tr>\n",
       "      <th>0</th>\n",
       "      <td>Braund, Mr. Owen Harris</td>\n",
       "      <td>male</td>\n",
       "      <td>A/5 21171</td>\n",
       "      <td>S</td>\n",
       "    </tr>\n",
       "    <tr>\n",
       "      <th>1</th>\n",
       "      <td>Cumings, Mrs. John Bradley (Florence Briggs Th...</td>\n",
       "      <td>female</td>\n",
       "      <td>PC 17599</td>\n",
       "      <td>C</td>\n",
       "    </tr>\n",
       "    <tr>\n",
       "      <th>2</th>\n",
       "      <td>Heikkinen, Miss. Laina</td>\n",
       "      <td>female</td>\n",
       "      <td>STON/O2. 3101282</td>\n",
       "      <td>S</td>\n",
       "    </tr>\n",
       "    <tr>\n",
       "      <th>3</th>\n",
       "      <td>Futrelle, Mrs. Jacques Heath (Lily May Peel)</td>\n",
       "      <td>female</td>\n",
       "      <td>113803</td>\n",
       "      <td>S</td>\n",
       "    </tr>\n",
       "    <tr>\n",
       "      <th>4</th>\n",
       "      <td>Allen, Mr. William Henry</td>\n",
       "      <td>male</td>\n",
       "      <td>373450</td>\n",
       "      <td>S</td>\n",
       "    </tr>\n",
       "  </tbody>\n",
       "</table>\n",
       "</div>"
      ],
      "text/plain": [
       "                                                Name     Sex  \\\n",
       "0                            Braund, Mr. Owen Harris    male   \n",
       "1  Cumings, Mrs. John Bradley (Florence Briggs Th...  female   \n",
       "2                             Heikkinen, Miss. Laina  female   \n",
       "3       Futrelle, Mrs. Jacques Heath (Lily May Peel)  female   \n",
       "4                           Allen, Mr. William Henry    male   \n",
       "\n",
       "             Ticket Embarked  \n",
       "0         A/5 21171        S  \n",
       "1          PC 17599        C  \n",
       "2  STON/O2. 3101282        S  \n",
       "3            113803        S  \n",
       "4            373450        S  "
      ]
     },
     "execution_count": 17,
     "metadata": {},
     "output_type": "execute_result"
    }
   ],
   "source": [
    "df_objet.head()"
   ]
  },
  {
   "cell_type": "code",
   "execution_count": 18,
   "metadata": {},
   "outputs": [
    {
     "data": {
      "text/html": [
       "<div>\n",
       "<style scoped>\n",
       "    .dataframe tbody tr th:only-of-type {\n",
       "        vertical-align: middle;\n",
       "    }\n",
       "\n",
       "    .dataframe tbody tr th {\n",
       "        vertical-align: top;\n",
       "    }\n",
       "\n",
       "    .dataframe thead th {\n",
       "        text-align: right;\n",
       "    }\n",
       "</style>\n",
       "<table border=\"1\" class=\"dataframe\">\n",
       "  <thead>\n",
       "    <tr style=\"text-align: right;\">\n",
       "      <th></th>\n",
       "      <th>Sex</th>\n",
       "      <th>Embarked</th>\n",
       "      <th>SibSp</th>\n",
       "      <th>Parch</th>\n",
       "      <th>Pclass</th>\n",
       "    </tr>\n",
       "  </thead>\n",
       "  <tbody>\n",
       "    <tr>\n",
       "      <th>0</th>\n",
       "      <td>male</td>\n",
       "      <td>S</td>\n",
       "      <td>1</td>\n",
       "      <td>0</td>\n",
       "      <td>3</td>\n",
       "    </tr>\n",
       "    <tr>\n",
       "      <th>1</th>\n",
       "      <td>female</td>\n",
       "      <td>C</td>\n",
       "      <td>1</td>\n",
       "      <td>0</td>\n",
       "      <td>1</td>\n",
       "    </tr>\n",
       "    <tr>\n",
       "      <th>2</th>\n",
       "      <td>female</td>\n",
       "      <td>S</td>\n",
       "      <td>0</td>\n",
       "      <td>0</td>\n",
       "      <td>3</td>\n",
       "    </tr>\n",
       "    <tr>\n",
       "      <th>3</th>\n",
       "      <td>female</td>\n",
       "      <td>S</td>\n",
       "      <td>1</td>\n",
       "      <td>0</td>\n",
       "      <td>1</td>\n",
       "    </tr>\n",
       "    <tr>\n",
       "      <th>4</th>\n",
       "      <td>male</td>\n",
       "      <td>S</td>\n",
       "      <td>0</td>\n",
       "      <td>0</td>\n",
       "      <td>3</td>\n",
       "    </tr>\n",
       "  </tbody>\n",
       "</table>\n",
       "</div>"
      ],
      "text/plain": [
       "      Sex Embarked  SibSp  Parch  Pclass\n",
       "0    male        S      1      0       3\n",
       "1  female        C      1      0       1\n",
       "2  female        S      0      0       3\n",
       "3  female        S      1      0       1\n",
       "4    male        S      0      0       3"
      ]
     },
     "execution_count": 18,
     "metadata": {},
     "output_type": "execute_result"
    }
   ],
   "source": [
    "df_categorical.head()"
   ]
  },
  {
   "cell_type": "markdown",
   "metadata": {},
   "source": [
    "# Exploring Data Distributions"
   ]
  },
  {
   "cell_type": "markdown",
   "metadata": {},
   "source": [
    "## Numerical Data"
   ]
  },
  {
   "cell_type": "code",
   "execution_count": 19,
   "metadata": {},
   "outputs": [],
   "source": [
    "from matplotlib import pyplot as plt\n",
    "import seaborn as sns "
   ]
  },
  {
   "cell_type": "code",
   "execution_count": 20,
   "metadata": {},
   "outputs": [
    {
     "data": {
      "text/html": [
       "<div>\n",
       "<style scoped>\n",
       "    .dataframe tbody tr th:only-of-type {\n",
       "        vertical-align: middle;\n",
       "    }\n",
       "\n",
       "    .dataframe tbody tr th {\n",
       "        vertical-align: top;\n",
       "    }\n",
       "\n",
       "    .dataframe thead th {\n",
       "        text-align: right;\n",
       "    }\n",
       "</style>\n",
       "<table border=\"1\" class=\"dataframe\">\n",
       "  <thead>\n",
       "    <tr style=\"text-align: right;\">\n",
       "      <th></th>\n",
       "      <th>Pclass</th>\n",
       "      <th>Age</th>\n",
       "      <th>SibSp</th>\n",
       "      <th>Parch</th>\n",
       "      <th>Fare</th>\n",
       "    </tr>\n",
       "  </thead>\n",
       "  <tbody>\n",
       "    <tr>\n",
       "      <th>0</th>\n",
       "      <td>3</td>\n",
       "      <td>22.0</td>\n",
       "      <td>1</td>\n",
       "      <td>0</td>\n",
       "      <td>7.2500</td>\n",
       "    </tr>\n",
       "    <tr>\n",
       "      <th>1</th>\n",
       "      <td>1</td>\n",
       "      <td>38.0</td>\n",
       "      <td>1</td>\n",
       "      <td>0</td>\n",
       "      <td>71.2833</td>\n",
       "    </tr>\n",
       "    <tr>\n",
       "      <th>2</th>\n",
       "      <td>3</td>\n",
       "      <td>26.0</td>\n",
       "      <td>0</td>\n",
       "      <td>0</td>\n",
       "      <td>7.9250</td>\n",
       "    </tr>\n",
       "    <tr>\n",
       "      <th>3</th>\n",
       "      <td>1</td>\n",
       "      <td>35.0</td>\n",
       "      <td>1</td>\n",
       "      <td>0</td>\n",
       "      <td>53.1000</td>\n",
       "    </tr>\n",
       "    <tr>\n",
       "      <th>4</th>\n",
       "      <td>3</td>\n",
       "      <td>35.0</td>\n",
       "      <td>0</td>\n",
       "      <td>0</td>\n",
       "      <td>8.0500</td>\n",
       "    </tr>\n",
       "  </tbody>\n",
       "</table>\n",
       "</div>"
      ],
      "text/plain": [
       "   Pclass   Age  SibSp  Parch     Fare\n",
       "0       3  22.0      1      0   7.2500\n",
       "1       1  38.0      1      0  71.2833\n",
       "2       3  26.0      0      0   7.9250\n",
       "3       1  35.0      1      0  53.1000\n",
       "4       3  35.0      0      0   8.0500"
      ]
     },
     "execution_count": 20,
     "metadata": {},
     "output_type": "execute_result"
    }
   ],
   "source": [
    "df_numeric.head()"
   ]
  },
  {
   "cell_type": "code",
   "execution_count": 21,
   "metadata": {},
   "outputs": [
    {
     "data": {
      "image/png": "[encoded data removed]",
      "text/plain": [
       "<Figure size 1000x1000 with 2 Axes>"
      ]
     },
     "metadata": {},
     "output_type": "display_data"
    }
   ],
   "source": [
    "fig, ax = plt.subplots(nrows=2, ncols=1,figsize=(10, 10))\n",
    "\n",
    "g1 = sns.histplot(data=df_numeric[\"Age\"],ax=ax[0]) #creates graph\n",
    "\n",
    "g1.set(yticklabels=[])  # remove the tick labels\n",
    "g1.set(title='Age Distribution')  # add a title\n",
    "g1.set(ylabel=None)  # remove the axis label\n",
    "\n",
    "\n",
    "g2 = sns.histplot(data=df_numeric[\"Fare\"],ax=ax[1]) #creates graph\n",
    "\n",
    "g2.set(yticklabels=[])  # remove the tick labels\n",
    "g2.set(title='Fare Distribution')  # add a title\n",
    "g2.set(ylabel=None)  # remove the axis label\n",
    "\n",
    "plt.show()"
   ]
  },
  {
   "cell_type": "code",
   "execution_count": 22,
   "metadata": {},
   "outputs": [
    {
     "data": {
      "image/png": "[encoded data removed]",
      "text/plain": [
       "<Figure size 1000x1000 with 2 Axes>"
      ]
     },
     "metadata": {},
     "output_type": "display_data"
    }
   ],
   "source": [
    "fig, ax = plt.subplots(nrows=2, ncols=1,figsize=(10, 10))\n",
    "\n",
    "g1 = sns.violinplot(x=df_numeric[\"Age\"],ax=ax[0]) #creates graph\n",
    "\n",
    "g1.set(yticklabels=[])  # remove the tick labels\n",
    "g1.set(title='Age Distribution')  # add a title\n",
    "g1.set(ylabel=None)  # remove the axis label\n",
    "\n",
    "\n",
    "g2 = sns.violinplot(x=df_numeric[\"Fare\"],ax=ax[1]) #creates graph\n",
    "\n",
    "g2.set(yticklabels=[])  # remove the tick labels\n",
    "g2.set(title='Fare Distribution')  # add a title\n",
    "g2.set(ylabel=None)  # remove the axis label\n",
    "\n",
    "plt.show()"
   ]
  },
  {
   "cell_type": "markdown",
   "metadata": {},
   "source": [
    "## Categorical Data"
   ]
  },
  {
   "cell_type": "code",
   "execution_count": 23,
   "metadata": {},
   "outputs": [
    {
     "data": {
      "text/html": [
       "<div>\n",
       "<style scoped>\n",
       "    .dataframe tbody tr th:only-of-type {\n",
       "        vertical-align: middle;\n",
       "    }\n",
       "\n",
       "    .dataframe tbody tr th {\n",
       "        vertical-align: top;\n",
       "    }\n",
       "\n",
       "    .dataframe thead th {\n",
       "        text-align: right;\n",
       "    }\n",
       "</style>\n",
       "<table border=\"1\" class=\"dataframe\">\n",
       "  <thead>\n",
       "    <tr style=\"text-align: right;\">\n",
       "      <th></th>\n",
       "      <th>Sex</th>\n",
       "      <th>Embarked</th>\n",
       "      <th>SibSp</th>\n",
       "      <th>Parch</th>\n",
       "      <th>Pclass</th>\n",
       "    </tr>\n",
       "  </thead>\n",
       "  <tbody>\n",
       "    <tr>\n",
       "      <th>0</th>\n",
       "      <td>male</td>\n",
       "      <td>S</td>\n",
       "      <td>1</td>\n",
       "      <td>0</td>\n",
       "      <td>3</td>\n",
       "    </tr>\n",
       "    <tr>\n",
       "      <th>1</th>\n",
       "      <td>female</td>\n",
       "      <td>C</td>\n",
       "      <td>1</td>\n",
       "      <td>0</td>\n",
       "      <td>1</td>\n",
       "    </tr>\n",
       "    <tr>\n",
       "      <th>2</th>\n",
       "      <td>female</td>\n",
       "      <td>S</td>\n",
       "      <td>0</td>\n",
       "      <td>0</td>\n",
       "      <td>3</td>\n",
       "    </tr>\n",
       "    <tr>\n",
       "      <th>3</th>\n",
       "      <td>female</td>\n",
       "      <td>S</td>\n",
       "      <td>1</td>\n",
       "      <td>0</td>\n",
       "      <td>1</td>\n",
       "    </tr>\n",
       "    <tr>\n",
       "      <th>4</th>\n",
       "      <td>male</td>\n",
       "      <td>S</td>\n",
       "      <td>0</td>\n",
       "      <td>0</td>\n",
       "      <td>3</td>\n",
       "    </tr>\n",
       "  </tbody>\n",
       "</table>\n",
       "</div>"
      ],
      "text/plain": [
       "      Sex Embarked  SibSp  Parch  Pclass\n",
       "0    male        S      1      0       3\n",
       "1  female        C      1      0       1\n",
       "2  female        S      0      0       3\n",
       "3  female        S      1      0       1\n",
       "4    male        S      0      0       3"
      ]
     },
     "execution_count": 23,
     "metadata": {},
     "output_type": "execute_result"
    }
   ],
   "source": [
    "df_categorical.head()"
   ]
  },
  {
   "cell_type": "code",
   "execution_count": 24,
   "metadata": {},
   "outputs": [
    {
     "data": {
      "text/plain": [
       "<Axes: xlabel='Embarked'>"
      ]
     },
     "execution_count": 24,
     "metadata": {},
     "output_type": "execute_result"
    },
    {
     "data": {
      "image/png": "[encoded data removed]",
      "text/plain": [
       "<Figure size 640x480 with 1 Axes>"
      ]
     },
     "metadata": {},
     "output_type": "display_data"
    }
   ],
   "source": [
    "sns.boxplot(x=df_categorical[\"Embarked\"]) #creates graph"
   ]
  },
  {
   "cell_type": "code",
   "execution_count": 25,
   "metadata": {},
   "outputs": [
    {
     "data": {
      "image/png": "[encoded data removed]",
      "text/plain": [
       "<Figure size 1000x1000 with 6 Axes>"
      ]
     },
     "metadata": {},
     "output_type": "display_data"
    }
   ],
   "source": [
    "fig, ax = plt.subplots(nrows=3, ncols=2,figsize=(10, 10))\n",
    "\n",
    "g1 = sns.countplot(x=df_categorical[\"Sex\"],ax=ax[0,0]) #creates graph\n",
    "\n",
    "g1.set(yticklabels=[])  # remove the tick labels\n",
    "g1.set(title='Sex Distribution')  # add a title\n",
    "g1.set(ylabel=None)  # remove the axis label\n",
    "\n",
    "\n",
    "g2 = sns.countplot(x=df_categorical[\"Embarked\"],ax=ax[0,1]) #creates graph\n",
    "\n",
    "g2.set(yticklabels=[])  # remove the tick labels\n",
    "g2.set(title='Embarked Distribution')  # add a title\n",
    "g2.set(ylabel=None)  # remove the axis label\n",
    "\n",
    "g3 = sns.countplot(x=df_categorical[\"SibSp\"],ax=ax[1,0]) #creates graph\n",
    "\n",
    "g3.set(yticklabels=[])  # remove the tick labels\n",
    "g3.set(title='\"SibSp\" Distribution')  # add a title\n",
    "g3.set(ylabel=None)  # remove the axis label\n",
    "\n",
    "\n",
    "g4 = sns.countplot(x=df_categorical[\"Parch\"],ax=ax[1,1]) #creates graph\n",
    "\n",
    "g4.set(yticklabels=[])  # remove the tick labels\n",
    "g4.set(title='\"Parch\" Distribution')  # add a title\n",
    "g4.set(ylabel=None)  # remove the axis label\n",
    "\n",
    "g5 = sns.countplot(x=df_categorical[\"Pclass\"],ax=ax[2,0]) #creates graph\n",
    "\n",
    "g5.set(yticklabels=[])  # remove the tick labels\n",
    "g5.set(title='\"Pclass\" Distribution')  # add a title\n",
    "g5.set(ylabel=None)  # remove the axis label\n",
    "\n",
    "fig.tight_layout()\n",
    "plt.show()"
   ]
  },
  {
   "cell_type": "markdown",
   "metadata": {},
   "source": [
    "# Exploring Composition"
   ]
  },
  {
   "cell_type": "markdown",
   "metadata": {},
   "source": [
    "## Sex Survivement"
   ]
  },
  {
   "cell_type": "code",
   "execution_count": 27,
   "metadata": {},
   "outputs": [
    {
     "data": {
      "text/plain": [
       "<Axes: xlabel='Sex', ylabel='Survived'>"
      ]
     },
     "execution_count": 27,
     "metadata": {},
     "output_type": "execute_result"
    },
    {
     "data": {
      "image/png": "[encoded data removed]",
      "text/plain": [
       "<Figure size 640x480 with 1 Axes>"
      ]
     },
     "metadata": {},
     "output_type": "display_data"
    }
   ],
   "source": [
    "#Sex and Survivement\n",
    "Sex_Survived = df[[\"Sex\",\"Survived\"]].groupby([\"Sex\"]).sum()\n",
    "sns.barplot(data=Sex_Survived, x=\"Sex\", y=\"Survived\")"
   ]
  },
  {
   "cell_type": "markdown",
   "metadata": {},
   "source": [
    "## Pclass Survivement"
   ]
  },
  {
   "cell_type": "code",
   "execution_count": 28,
   "metadata": {},
   "outputs": [
    {
     "data": {
      "text/plain": [
       "<Axes: xlabel='Pclass', ylabel='Survived'>"
      ]
     },
     "execution_count": 28,
     "metadata": {},
     "output_type": "execute_result"
    },
    {
     "data": {
      "image/png": "[encoded data removed]",
      "text/plain": [
       "<Figure size 640x480 with 1 Axes>"
      ]
     },
     "metadata": {},
     "output_type": "display_data"
    }
   ],
   "source": [
    "#Pclass and Survivement\n",
    "Pclass_Survived = df[[\"Pclass\",\"Survived\"]].groupby([\"Pclass\"]).sum()\n",
    "\n",
    "sns.barplot(data=Pclass_Survived, x=\"Pclass\", y=\"Survived\", order=[\"1\",\"3\",\"2\"])"
   ]
  },
  {
   "cell_type": "markdown",
   "metadata": {},
   "source": [
    "## SibSp Survivement"
   ]
  },
  {
   "cell_type": "code",
   "execution_count": 29,
   "metadata": {},
   "outputs": [
    {
     "data": {
      "text/plain": [
       "<Axes: xlabel='SibSp', ylabel='Survived'>"
      ]
     },
     "execution_count": 29,
     "metadata": {},
     "output_type": "execute_result"
    },
    {
     "data": {
      "image/png": "[encoded data removed]",
      "text/plain": [
       "<Figure size 640x480 with 1 Axes>"
      ]
     },
     "metadata": {},
     "output_type": "display_data"
    }
   ],
   "source": [
    "#SibSp and Survivement\n",
    "SibSp_Survived = df[[\"SibSp\",\"Survived\"]].groupby([\"SibSp\"]).sum()\n",
    "SibSp_Survived.reset_index()\n",
    "sns.barplot(data=SibSp_Survived, x=\"SibSp\", y=\"Survived\", order=[\"0\",\"1\",\"2\",\"3\",\"4\"])"
   ]
  },
  {
   "cell_type": "markdown",
   "metadata": {},
   "source": [
    "## Embarked Survivement"
   ]
  },
  {
   "cell_type": "code",
   "execution_count": 30,
   "metadata": {},
   "outputs": [
    {
     "data": {
      "text/plain": [
       "<Axes: xlabel='Embarked', ylabel='Survived'>"
      ]
     },
     "execution_count": 30,
     "metadata": {},
     "output_type": "execute_result"
    },
    {
     "data": {
      "image/png": "[encoded data removed]",
      "text/plain": [
       "<Figure size 640x480 with 1 Axes>"
      ]
     },
     "metadata": {},
     "output_type": "display_data"
    }
   ],
   "source": [
    "#Embarked and Survivement\n",
    "Embarked_Survived = df[[\"Embarked\",\"Survived\"]].groupby([\"Embarked\"]).sum()\n",
    "Embarked_Survived.reset_index()\n",
    "sns.barplot(data=Embarked_Survived, x=\"Embarked\",y=\"Survived\", order=[\"S\",\"C\",\"Q\"])"
   ]
  },
  {
   "cell_type": "markdown",
   "metadata": {},
   "source": [
    "## Fare Survivement"
   ]
  },
  {
   "cell_type": "code",
   "execution_count": 31,
   "metadata": {},
   "outputs": [
    {
     "data": {
      "text/html": [
       "<div>\n",
       "<style scoped>\n",
       "    .dataframe tbody tr th:only-of-type {\n",
       "        vertical-align: middle;\n",
       "    }\n",
       "\n",
       "    .dataframe tbody tr th {\n",
       "        vertical-align: top;\n",
       "    }\n",
       "\n",
       "    .dataframe thead th {\n",
       "        text-align: right;\n",
       "    }\n",
       "</style>\n",
       "<table border=\"1\" class=\"dataframe\">\n",
       "  <thead>\n",
       "    <tr style=\"text-align: right;\">\n",
       "      <th></th>\n",
       "      <th>Survived</th>\n",
       "      <th>Pclass</th>\n",
       "      <th>Name</th>\n",
       "      <th>Sex</th>\n",
       "      <th>Age</th>\n",
       "      <th>SibSp</th>\n",
       "      <th>Parch</th>\n",
       "      <th>Ticket</th>\n",
       "      <th>Fare</th>\n",
       "      <th>Embarked</th>\n",
       "      <th>Fare Category</th>\n",
       "    </tr>\n",
       "  </thead>\n",
       "  <tbody>\n",
       "    <tr>\n",
       "      <th>0</th>\n",
       "      <td>0</td>\n",
       "      <td>3</td>\n",
       "      <td>Braund, Mr. Owen Harris</td>\n",
       "      <td>male</td>\n",
       "      <td>22.0</td>\n",
       "      <td>1</td>\n",
       "      <td>0</td>\n",
       "      <td>A/5 21171</td>\n",
       "      <td>7.2500</td>\n",
       "      <td>S</td>\n",
       "      <td>bajo</td>\n",
       "    </tr>\n",
       "    <tr>\n",
       "      <th>1</th>\n",
       "      <td>1</td>\n",
       "      <td>1</td>\n",
       "      <td>Cumings, Mrs. John Bradley (Florence Briggs Th...</td>\n",
       "      <td>female</td>\n",
       "      <td>38.0</td>\n",
       "      <td>1</td>\n",
       "      <td>0</td>\n",
       "      <td>PC 17599</td>\n",
       "      <td>71.2833</td>\n",
       "      <td>C</td>\n",
       "      <td>alto</td>\n",
       "    </tr>\n",
       "    <tr>\n",
       "      <th>2</th>\n",
       "      <td>1</td>\n",
       "      <td>3</td>\n",
       "      <td>Heikkinen, Miss. Laina</td>\n",
       "      <td>female</td>\n",
       "      <td>26.0</td>\n",
       "      <td>0</td>\n",
       "      <td>0</td>\n",
       "      <td>STON/O2. 3101282</td>\n",
       "      <td>7.9250</td>\n",
       "      <td>S</td>\n",
       "      <td>bajo</td>\n",
       "    </tr>\n",
       "    <tr>\n",
       "      <th>3</th>\n",
       "      <td>1</td>\n",
       "      <td>1</td>\n",
       "      <td>Futrelle, Mrs. Jacques Heath (Lily May Peel)</td>\n",
       "      <td>female</td>\n",
       "      <td>35.0</td>\n",
       "      <td>1</td>\n",
       "      <td>0</td>\n",
       "      <td>113803</td>\n",
       "      <td>53.1000</td>\n",
       "      <td>S</td>\n",
       "      <td>alto</td>\n",
       "    </tr>\n",
       "    <tr>\n",
       "      <th>4</th>\n",
       "      <td>0</td>\n",
       "      <td>3</td>\n",
       "      <td>Allen, Mr. William Henry</td>\n",
       "      <td>male</td>\n",
       "      <td>35.0</td>\n",
       "      <td>0</td>\n",
       "      <td>0</td>\n",
       "      <td>373450</td>\n",
       "      <td>8.0500</td>\n",
       "      <td>S</td>\n",
       "      <td>medio</td>\n",
       "    </tr>\n",
       "  </tbody>\n",
       "</table>\n",
       "</div>"
      ],
      "text/plain": [
       "   Survived  Pclass                                               Name  \\\n",
       "0         0       3                            Braund, Mr. Owen Harris   \n",
       "1         1       1  Cumings, Mrs. John Bradley (Florence Briggs Th...   \n",
       "2         1       3                             Heikkinen, Miss. Laina   \n",
       "3         1       1       Futrelle, Mrs. Jacques Heath (Lily May Peel)   \n",
       "4         0       3                           Allen, Mr. William Henry   \n",
       "\n",
       "      Sex   Age  SibSp  Parch            Ticket     Fare Embarked  \\\n",
       "0    male  22.0      1      0         A/5 21171   7.2500        S   \n",
       "1  female  38.0      1      0          PC 17599  71.2833        C   \n",
       "2  female  26.0      0      0  STON/O2. 3101282   7.9250        S   \n",
       "3  female  35.0      1      0            113803  53.1000        S   \n",
       "4    male  35.0      0      0            373450   8.0500        S   \n",
       "\n",
       "  Fare Category  \n",
       "0          bajo  \n",
       "1          alto  \n",
       "2          bajo  \n",
       "3          alto  \n",
       "4         medio  "
      ]
     },
     "execution_count": 31,
     "metadata": {},
     "output_type": "execute_result"
    }
   ],
   "source": [
    "bins = [-np.inf,8,15,31,np.inf]\n",
    "labels = [\"bajo\",\"medio\",\"medio-alto\",\"alto\"]\n",
    "\n",
    "df[\"Fare Category\"] = pd.cut(df[\"Fare\"],bins,labels=labels)\n",
    "df.head()"
   ]
  },
  {
   "cell_type": "code",
   "execution_count": 32,
   "metadata": {},
   "outputs": [
    {
     "data": {
      "text/html": [
       "<div>\n",
       "<style scoped>\n",
       "    .dataframe tbody tr th:only-of-type {\n",
       "        vertical-align: middle;\n",
       "    }\n",
       "\n",
       "    .dataframe tbody tr th {\n",
       "        vertical-align: top;\n",
       "    }\n",
       "\n",
       "    .dataframe thead th {\n",
       "        text-align: right;\n",
       "    }\n",
       "</style>\n",
       "<table border=\"1\" class=\"dataframe\">\n",
       "  <thead>\n",
       "    <tr style=\"text-align: right;\">\n",
       "      <th></th>\n",
       "      <th>Survived</th>\n",
       "    </tr>\n",
       "    <tr>\n",
       "      <th>Fare Category</th>\n",
       "      <th></th>\n",
       "    </tr>\n",
       "  </thead>\n",
       "  <tbody>\n",
       "    <tr>\n",
       "      <th>bajo</th>\n",
       "      <td>52</td>\n",
       "    </tr>\n",
       "    <tr>\n",
       "      <th>medio</th>\n",
       "      <td>62</td>\n",
       "    </tr>\n",
       "    <tr>\n",
       "      <th>medio-alto</th>\n",
       "      <td>99</td>\n",
       "    </tr>\n",
       "    <tr>\n",
       "      <th>alto</th>\n",
       "      <td>129</td>\n",
       "    </tr>\n",
       "  </tbody>\n",
       "</table>\n",
       "</div>"
      ],
      "text/plain": [
       "               Survived\n",
       "Fare Category          \n",
       "bajo                 52\n",
       "medio                62\n",
       "medio-alto           99\n",
       "alto                129"
      ]
     },
     "execution_count": 32,
     "metadata": {},
     "output_type": "execute_result"
    }
   ],
   "source": [
    "#Fare and Survivement\n",
    "Fare_Survivement = df[[\"Fare Category\",\"Survived\"]].groupby([\"Fare Category\"], observed=False).sum()\n",
    "Fare_Survivement"
   ]
  },
  {
   "cell_type": "code",
   "execution_count": 33,
   "metadata": {},
   "outputs": [
    {
     "data": {
      "text/plain": [
       "<Axes: xlabel='Fare Category', ylabel='Survived'>"
      ]
     },
     "execution_count": 33,
     "metadata": {},
     "output_type": "execute_result"
    },
    {
     "data": {
      "image/png": "[encoded data removed]",
      "text/plain": [
       "<Figure size 640x480 with 1 Axes>"
      ]
     },
     "metadata": {},
     "output_type": "display_data"
    }
   ],
   "source": [
    "sns.barplot(Fare_Survivement, x = \"Fare Category\", y=\"Survived\" , order=[\"alto\",\"medio-alto\",\"medio\",\"bajo\"])"
   ]
  },
  {
   "cell_type": "markdown",
   "metadata": {},
   "source": [
    "## Age Category Survivement"
   ]
  },
  {
   "cell_type": "code",
   "execution_count": 34,
   "metadata": {},
   "outputs": [
    {
     "data": {
      "text/html": [
       "<div>\n",
       "<style scoped>\n",
       "    .dataframe tbody tr th:only-of-type {\n",
       "        vertical-align: middle;\n",
       "    }\n",
       "\n",
       "    .dataframe tbody tr th {\n",
       "        vertical-align: top;\n",
       "    }\n",
       "\n",
       "    .dataframe thead th {\n",
       "        text-align: right;\n",
       "    }\n",
       "</style>\n",
       "<table border=\"1\" class=\"dataframe\">\n",
       "  <thead>\n",
       "    <tr style=\"text-align: right;\">\n",
       "      <th></th>\n",
       "      <th>Survived</th>\n",
       "      <th>Pclass</th>\n",
       "      <th>Name</th>\n",
       "      <th>Sex</th>\n",
       "      <th>Age</th>\n",
       "      <th>SibSp</th>\n",
       "      <th>Parch</th>\n",
       "      <th>Ticket</th>\n",
       "      <th>Fare</th>\n",
       "      <th>Embarked</th>\n",
       "      <th>Fare Category</th>\n",
       "      <th>Age Category</th>\n",
       "    </tr>\n",
       "  </thead>\n",
       "  <tbody>\n",
       "    <tr>\n",
       "      <th>0</th>\n",
       "      <td>0</td>\n",
       "      <td>3</td>\n",
       "      <td>Braund, Mr. Owen Harris</td>\n",
       "      <td>male</td>\n",
       "      <td>22.0</td>\n",
       "      <td>1</td>\n",
       "      <td>0</td>\n",
       "      <td>A/5 21171</td>\n",
       "      <td>7.2500</td>\n",
       "      <td>S</td>\n",
       "      <td>bajo</td>\n",
       "      <td>Young Adult</td>\n",
       "    </tr>\n",
       "    <tr>\n",
       "      <th>1</th>\n",
       "      <td>1</td>\n",
       "      <td>1</td>\n",
       "      <td>Cumings, Mrs. John Bradley (Florence Briggs Th...</td>\n",
       "      <td>female</td>\n",
       "      <td>38.0</td>\n",
       "      <td>1</td>\n",
       "      <td>0</td>\n",
       "      <td>PC 17599</td>\n",
       "      <td>71.2833</td>\n",
       "      <td>C</td>\n",
       "      <td>alto</td>\n",
       "      <td>Adult</td>\n",
       "    </tr>\n",
       "    <tr>\n",
       "      <th>2</th>\n",
       "      <td>1</td>\n",
       "      <td>3</td>\n",
       "      <td>Heikkinen, Miss. Laina</td>\n",
       "      <td>female</td>\n",
       "      <td>26.0</td>\n",
       "      <td>0</td>\n",
       "      <td>0</td>\n",
       "      <td>STON/O2. 3101282</td>\n",
       "      <td>7.9250</td>\n",
       "      <td>S</td>\n",
       "      <td>bajo</td>\n",
       "      <td>Adult</td>\n",
       "    </tr>\n",
       "    <tr>\n",
       "      <th>3</th>\n",
       "      <td>1</td>\n",
       "      <td>1</td>\n",
       "      <td>Futrelle, Mrs. Jacques Heath (Lily May Peel)</td>\n",
       "      <td>female</td>\n",
       "      <td>35.0</td>\n",
       "      <td>1</td>\n",
       "      <td>0</td>\n",
       "      <td>113803</td>\n",
       "      <td>53.1000</td>\n",
       "      <td>S</td>\n",
       "      <td>alto</td>\n",
       "      <td>Adult</td>\n",
       "    </tr>\n",
       "    <tr>\n",
       "      <th>4</th>\n",
       "      <td>0</td>\n",
       "      <td>3</td>\n",
       "      <td>Allen, Mr. William Henry</td>\n",
       "      <td>male</td>\n",
       "      <td>35.0</td>\n",
       "      <td>0</td>\n",
       "      <td>0</td>\n",
       "      <td>373450</td>\n",
       "      <td>8.0500</td>\n",
       "      <td>S</td>\n",
       "      <td>medio</td>\n",
       "      <td>Adult</td>\n",
       "    </tr>\n",
       "  </tbody>\n",
       "</table>\n",
       "</div>"
      ],
      "text/plain": [
       "   Survived  Pclass                                               Name  \\\n",
       "0         0       3                            Braund, Mr. Owen Harris   \n",
       "1         1       1  Cumings, Mrs. John Bradley (Florence Briggs Th...   \n",
       "2         1       3                             Heikkinen, Miss. Laina   \n",
       "3         1       1       Futrelle, Mrs. Jacques Heath (Lily May Peel)   \n",
       "4         0       3                           Allen, Mr. William Henry   \n",
       "\n",
       "      Sex   Age  SibSp  Parch            Ticket     Fare Embarked  \\\n",
       "0    male  22.0      1      0         A/5 21171   7.2500        S   \n",
       "1  female  38.0      1      0          PC 17599  71.2833        C   \n",
       "2  female  26.0      0      0  STON/O2. 3101282   7.9250        S   \n",
       "3  female  35.0      1      0            113803  53.1000        S   \n",
       "4    male  35.0      0      0            373450   8.0500        S   \n",
       "\n",
       "  Fare Category Age Category  \n",
       "0          bajo  Young Adult  \n",
       "1          alto        Adult  \n",
       "2          bajo        Adult  \n",
       "3          alto        Adult  \n",
       "4         medio        Adult  "
      ]
     },
     "execution_count": 34,
     "metadata": {},
     "output_type": "execute_result"
    }
   ],
   "source": [
    "bins = [-np.inf,1,3,5,12,18,25,64,np.inf]\n",
    "labels = [\"baby\",\"Toddler\",\"Preschool\",\"GrandSchooler\",\"Teen\",\"Young Adult\",\"Adult\",\"Senior\"]\n",
    "\n",
    "df[\"Age Category\"] = pd.cut(df[\"Age\"],bins,labels=labels)\n",
    "df.head()"
   ]
  },
  {
   "cell_type": "code",
   "execution_count": 35,
   "metadata": {},
   "outputs": [
    {
     "data": {
      "text/html": [
       "<div>\n",
       "<style scoped>\n",
       "    .dataframe tbody tr th:only-of-type {\n",
       "        vertical-align: middle;\n",
       "    }\n",
       "\n",
       "    .dataframe tbody tr th {\n",
       "        vertical-align: top;\n",
       "    }\n",
       "\n",
       "    .dataframe thead th {\n",
       "        text-align: right;\n",
       "    }\n",
       "</style>\n",
       "<table border=\"1\" class=\"dataframe\">\n",
       "  <thead>\n",
       "    <tr style=\"text-align: right;\">\n",
       "      <th></th>\n",
       "      <th>Age Category</th>\n",
       "      <th>Survived</th>\n",
       "    </tr>\n",
       "  </thead>\n",
       "  <tbody>\n",
       "    <tr>\n",
       "      <th>0</th>\n",
       "      <td>Adult</td>\n",
       "      <td>217</td>\n",
       "    </tr>\n",
       "    <tr>\n",
       "      <th>1</th>\n",
       "      <td>Young Adult</td>\n",
       "      <td>54</td>\n",
       "    </tr>\n",
       "    <tr>\n",
       "      <th>2</th>\n",
       "      <td>Teen</td>\n",
       "      <td>30</td>\n",
       "    </tr>\n",
       "    <tr>\n",
       "      <th>3</th>\n",
       "      <td>baby</td>\n",
       "      <td>12</td>\n",
       "    </tr>\n",
       "    <tr>\n",
       "      <th>4</th>\n",
       "      <td>Preschool</td>\n",
       "      <td>11</td>\n",
       "    </tr>\n",
       "    <tr>\n",
       "      <th>5</th>\n",
       "      <td>GrandSchooler</td>\n",
       "      <td>9</td>\n",
       "    </tr>\n",
       "    <tr>\n",
       "      <th>6</th>\n",
       "      <td>Toddler</td>\n",
       "      <td>8</td>\n",
       "    </tr>\n",
       "    <tr>\n",
       "      <th>7</th>\n",
       "      <td>Senior</td>\n",
       "      <td>1</td>\n",
       "    </tr>\n",
       "  </tbody>\n",
       "</table>\n",
       "</div>"
      ],
      "text/plain": [
       "    Age Category  Survived\n",
       "0          Adult       217\n",
       "1    Young Adult        54\n",
       "2           Teen        30\n",
       "3           baby        12\n",
       "4      Preschool        11\n",
       "5  GrandSchooler         9\n",
       "6        Toddler         8\n",
       "7         Senior         1"
      ]
     },
     "execution_count": 35,
     "metadata": {},
     "output_type": "execute_result"
    }
   ],
   "source": [
    "#Age and Survivement\n",
    "Age_category_Survived = df[[\"Age Category\",\"Survived\"]].groupby([\"Age Category\"], observed=False).sum()\n",
    "Age_category_Survived = Age_category_Survived.sort_values(by=\"Survived\",ascending=False).reset_index()\n",
    "Age_category_Survived.reset_index(drop=True)\n",
    "Age_category_Survived.head(10)"
   ]
  },
  {
   "cell_type": "code",
   "execution_count": 36,
   "metadata": {},
   "outputs": [
    {
     "data": {
      "image/png": "[encoded data removed]",
      "text/plain": [
       "<Figure size 640x480 with 1 Axes>"
      ]
     },
     "metadata": {},
     "output_type": "display_data"
    }
   ],
   "source": [
    "sns.barplot(data=Age_category_Survived, y=\"Age Category\",x=\"Survived\",order=[\"Adult\",\"Young Adult\",\"Teen\",\"baby\",\"Preschool\",\"GrandSchooler\",\"Toddler\",\"Senior\"])\n",
    "plt.xticks(rotation=45)\n",
    "plt.show()"
   ]
  },
  {
   "cell_type": "markdown",
   "metadata": {},
   "source": [
    "## Exploring name titles "
   ]
  },
  {
   "cell_type": "code",
   "execution_count": 37,
   "metadata": {},
   "outputs": [],
   "source": [
    "import re"
   ]
  },
  {
   "cell_type": "code",
   "execution_count": 38,
   "metadata": {},
   "outputs": [
    {
     "data": {
      "text/html": [
       "<div>\n",
       "<style scoped>\n",
       "    .dataframe tbody tr th:only-of-type {\n",
       "        vertical-align: middle;\n",
       "    }\n",
       "\n",
       "    .dataframe tbody tr th {\n",
       "        vertical-align: top;\n",
       "    }\n",
       "\n",
       "    .dataframe thead th {\n",
       "        text-align: right;\n",
       "    }\n",
       "</style>\n",
       "<table border=\"1\" class=\"dataframe\">\n",
       "  <thead>\n",
       "    <tr style=\"text-align: right;\">\n",
       "      <th></th>\n",
       "      <th>Survived</th>\n",
       "      <th>Pclass</th>\n",
       "      <th>Name</th>\n",
       "      <th>Sex</th>\n",
       "      <th>Age</th>\n",
       "      <th>SibSp</th>\n",
       "      <th>Parch</th>\n",
       "      <th>Ticket</th>\n",
       "      <th>Fare</th>\n",
       "      <th>Embarked</th>\n",
       "      <th>Fare Category</th>\n",
       "      <th>Age Category</th>\n",
       "      <th>Title Name</th>\n",
       "    </tr>\n",
       "  </thead>\n",
       "  <tbody>\n",
       "    <tr>\n",
       "      <th>0</th>\n",
       "      <td>0</td>\n",
       "      <td>3</td>\n",
       "      <td>Braund, Mr. Owen Harris</td>\n",
       "      <td>male</td>\n",
       "      <td>22.0</td>\n",
       "      <td>1</td>\n",
       "      <td>0</td>\n",
       "      <td>A/5 21171</td>\n",
       "      <td>7.2500</td>\n",
       "      <td>S</td>\n",
       "      <td>bajo</td>\n",
       "      <td>Young Adult</td>\n",
       "      <td>0.0</td>\n",
       "    </tr>\n",
       "    <tr>\n",
       "      <th>1</th>\n",
       "      <td>1</td>\n",
       "      <td>1</td>\n",
       "      <td>Cumings, Mrs. John Bradley (Florence Briggs Th...</td>\n",
       "      <td>female</td>\n",
       "      <td>38.0</td>\n",
       "      <td>1</td>\n",
       "      <td>0</td>\n",
       "      <td>PC 17599</td>\n",
       "      <td>71.2833</td>\n",
       "      <td>C</td>\n",
       "      <td>alto</td>\n",
       "      <td>Adult</td>\n",
       "      <td>0.0</td>\n",
       "    </tr>\n",
       "    <tr>\n",
       "      <th>2</th>\n",
       "      <td>1</td>\n",
       "      <td>3</td>\n",
       "      <td>Heikkinen, Miss. Laina</td>\n",
       "      <td>female</td>\n",
       "      <td>26.0</td>\n",
       "      <td>0</td>\n",
       "      <td>0</td>\n",
       "      <td>STON/O2. 3101282</td>\n",
       "      <td>7.9250</td>\n",
       "      <td>S</td>\n",
       "      <td>bajo</td>\n",
       "      <td>Adult</td>\n",
       "      <td>0.0</td>\n",
       "    </tr>\n",
       "    <tr>\n",
       "      <th>3</th>\n",
       "      <td>1</td>\n",
       "      <td>1</td>\n",
       "      <td>Futrelle, Mrs. Jacques Heath (Lily May Peel)</td>\n",
       "      <td>female</td>\n",
       "      <td>35.0</td>\n",
       "      <td>1</td>\n",
       "      <td>0</td>\n",
       "      <td>113803</td>\n",
       "      <td>53.1000</td>\n",
       "      <td>S</td>\n",
       "      <td>alto</td>\n",
       "      <td>Adult</td>\n",
       "      <td>0.0</td>\n",
       "    </tr>\n",
       "    <tr>\n",
       "      <th>4</th>\n",
       "      <td>0</td>\n",
       "      <td>3</td>\n",
       "      <td>Allen, Mr. William Henry</td>\n",
       "      <td>male</td>\n",
       "      <td>35.0</td>\n",
       "      <td>0</td>\n",
       "      <td>0</td>\n",
       "      <td>373450</td>\n",
       "      <td>8.0500</td>\n",
       "      <td>S</td>\n",
       "      <td>medio</td>\n",
       "      <td>Adult</td>\n",
       "      <td>0.0</td>\n",
       "    </tr>\n",
       "  </tbody>\n",
       "</table>\n",
       "</div>"
      ],
      "text/plain": [
       "   Survived  Pclass                                               Name  \\\n",
       "0         0       3                            Braund, Mr. Owen Harris   \n",
       "1         1       1  Cumings, Mrs. John Bradley (Florence Briggs Th...   \n",
       "2         1       3                             Heikkinen, Miss. Laina   \n",
       "3         1       1       Futrelle, Mrs. Jacques Heath (Lily May Peel)   \n",
       "4         0       3                           Allen, Mr. William Henry   \n",
       "\n",
       "      Sex   Age  SibSp  Parch            Ticket     Fare Embarked  \\\n",
       "0    male  22.0      1      0         A/5 21171   7.2500        S   \n",
       "1  female  38.0      1      0          PC 17599  71.2833        C   \n",
       "2  female  26.0      0      0  STON/O2. 3101282   7.9250        S   \n",
       "3  female  35.0      1      0            113803  53.1000        S   \n",
       "4    male  35.0      0      0            373450   8.0500        S   \n",
       "\n",
       "  Fare Category Age Category  Title Name  \n",
       "0          bajo  Young Adult         0.0  \n",
       "1          alto        Adult         0.0  \n",
       "2          bajo        Adult         0.0  \n",
       "3          alto        Adult         0.0  \n",
       "4         medio        Adult         0.0  "
      ]
     },
     "execution_count": 38,
     "metadata": {},
     "output_type": "execute_result"
    }
   ],
   "source": [
    "# Regular expression pattern to match common name titles\n",
    "pattern = r\"Mr\\.|Master\\.|Mrs\\.|Miss\\.\\s+\"\n",
    "\n",
    "df.loc[~df[\"Name\"].str.contains(pattern, regex=True),\"Title Name\"] = 1\n",
    "df[\"Title Name\"].fillna(0, inplace=True)\n",
    "df.head()"
   ]
  },
  {
   "cell_type": "code",
   "execution_count": 39,
   "metadata": {},
   "outputs": [
    {
     "data": {
      "text/html": [
       "<div>\n",
       "<style scoped>\n",
       "    .dataframe tbody tr th:only-of-type {\n",
       "        vertical-align: middle;\n",
       "    }\n",
       "\n",
       "    .dataframe tbody tr th {\n",
       "        vertical-align: top;\n",
       "    }\n",
       "\n",
       "    .dataframe thead th {\n",
       "        text-align: right;\n",
       "    }\n",
       "</style>\n",
       "<table border=\"1\" class=\"dataframe\">\n",
       "  <thead>\n",
       "    <tr style=\"text-align: right;\">\n",
       "      <th></th>\n",
       "      <th>Survived</th>\n",
       "    </tr>\n",
       "    <tr>\n",
       "      <th>Title Name</th>\n",
       "      <th></th>\n",
       "    </tr>\n",
       "  </thead>\n",
       "  <tbody>\n",
       "    <tr>\n",
       "      <th>0.0</th>\n",
       "      <td>38.194444</td>\n",
       "    </tr>\n",
       "    <tr>\n",
       "      <th>1.0</th>\n",
       "      <td>44.444444</td>\n",
       "    </tr>\n",
       "  </tbody>\n",
       "</table>\n",
       "</div>"
      ],
      "text/plain": [
       "             Survived\n",
       "Title Name           \n",
       "0.0         38.194444\n",
       "1.0         44.444444"
      ]
     },
     "execution_count": 39,
     "metadata": {},
     "output_type": "execute_result"
    }
   ],
   "source": [
    "df.loc[:,[\"Title Name\",\"Survived\"]].groupby(\"Title Name\").mean()*100"
   ]
  },
  {
   "cell_type": "code",
   "execution_count": 40,
   "metadata": {},
   "outputs": [
    {
     "data": {
      "text/plain": [
       "<Axes: xlabel='Title Name', ylabel='Survived'>"
      ]
     },
     "execution_count": 40,
     "metadata": {},
     "output_type": "execute_result"
    },
    {
     "data": {
      "image/png": "[encoded data removed]",
      "text/plain": [
       "<Figure size 640x480 with 1 Axes>"
      ]
     },
     "metadata": {},
     "output_type": "display_data"
    }
   ],
   "source": [
    "TitleName_Survive = df[[\"Title Name\",\"Survived\"]].groupby([\"Title Name\"]).sum()\n",
    "sns.barplot(data=TitleName_Survive,x=\"Title Name\",y=\"Survived\")"
   ]
  },
  {
   "cell_type": "markdown",
   "metadata": {},
   "source": [
    "## Summary\n",
    "\n",
    "En terminos de sobrevivencia podemos observar que :\n",
    "1. En relacion con el **Sexo** Sobrevivieron mas **Mujeres** que hombres\n",
    "2. En relacion con la **Clase** del pasaje sobrevivieron mas pasajeros de **1ra** clase que de 3ra y 2da (3ra sobrevivio mas gente que 2ra)\n",
    "3. En relacion con **SibSp** (hijos o hermanos) con la sobreviviencia se observa que sobrevivieron en el siguiente orden de cantidad 01234\n",
    "4. En leracion con **Embarked** sobrevivieron en el siguiente orden S C Q\n",
    "5. En relacion con preico del ticket **Fare** la composicion de supervivencia es alto medioalto meido bajo (mas gasta mas sobrevive)\n",
    "6. En realcion con la edad **Age** la sobrevivencia la indica la siguiente lista (de mayor sobrevivencia a menor sobrevivencia) Adult, Young Adult, Teen, baby, Preschool, GrandSchooler,Toddler, Senior \n",
    "7. En relacion con los titulos de nombre **Title Name** se observa que hay mas gente sin titulos de nombre se sobrevivio pero cuando vemos los porcentajes de sobrevivencia vemos exactamente lo opuesto con lo que podemos pensar que quizas es mas probable sobrevivir si tiene un titulo de nombre a que si no lo tengo\n",
    "\n",
    "**Nota**: el resumen se basa en terminos totales, pero es de destacar que cuando hablamos en terminos porcentuales algunos resultados cambian favoreciendo poblacion que suponen una minoria con lo que es interesante considerarlo ya que esto podria indicar que de pertenecer a esa categoria haria que las probabilidades de supervivencia aumenten.\n"
   ]
  },
  {
   "cell_type": "markdown",
   "metadata": {},
   "source": [
    "# Exploring Data Relationships"
   ]
  },
  {
   "cell_type": "code",
   "execution_count": 41,
   "metadata": {},
   "outputs": [
    {
     "data": {
      "text/plain": [
       "<seaborn.axisgrid.PairGrid at 0x24482b0f560>"
      ]
     },
     "execution_count": 41,
     "metadata": {},
     "output_type": "execute_result"
    },
    {
     "data": {
      "image/png": "[encoded data removed]",
      "text/plain": [
       "<Figure size 750x750 with 12 Axes>"
      ]
     },
     "metadata": {},
     "output_type": "display_data"
    }
   ],
   "source": [
    "numerical = df.select_dtypes(\"number\")\n",
    "numerical.drop(columns=[\"Pclass\",\"SibSp\",\"Parch\",\"Title Name\"],inplace=True)\n",
    "sns.pairplot(data=numerical)"
   ]
  },
  {
   "cell_type": "markdown",
   "metadata": {},
   "source": [
    "## Exploring the Relationships between categorical data and Survivement"
   ]
  },
  {
   "cell_type": "code",
   "execution_count": 42,
   "metadata": {},
   "outputs": [
    {
     "data": {
      "text/plain": [
       "<Axes: xlabel='Survived', ylabel='Pclass'>"
      ]
     },
     "execution_count": 42,
     "metadata": {},
     "output_type": "execute_result"
    },
    {
     "data": {
      "image/png": "[encoded data removed]",
      "text/plain": [
       "<Figure size 640x480 with 2 Axes>"
      ]
     },
     "metadata": {},
     "output_type": "display_data"
    }
   ],
   "source": [
    "# Survivement y Pclass\n",
    "# Heatmap \n",
    "sns.color_palette(\"hls\", 8)\n",
    "sns.heatmap(pd.crosstab(df['Pclass'], df['Survived'], normalize='index'), cmap=plt.get_cmap(\"tab10\"))"
   ]
  },
  {
   "cell_type": "markdown",
   "metadata": {},
   "source": [
    "### Chi Cuadrado"
   ]
  },
  {
   "cell_type": "code",
   "execution_count": 43,
   "metadata": {},
   "outputs": [
    {
     "name": "stdout",
     "output_type": "stream",
     "text": [
      "Chi-cuadrado: 102.88898875696056\n",
      "Valor p: 4.549251711298793e-23\n",
      "Grados de libertad: 2\n",
      "Frecuencia esperada:\n",
      " [[133.09090909  82.90909091]\n",
      " [113.37373737  70.62626263]\n",
      " [302.53535354 188.46464646]]\n",
      "Se rechaza la hipótesis nula: hay asociación entre las variables.\n"
     ]
    }
   ],
   "source": [
    "# Prueba de Chi cuadrado\n",
    "# Realizar la prueba de Chi-cuadrado\n",
    "from scipy.stats import chi2_contingency\n",
    "\n",
    "# Crear tabla de contingencia\n",
    "tabla_contingencia = pd.crosstab(df['Pclass'], df['Survived'])\n",
    "\n",
    "chi2, p, dof, expected = chi2_contingency(tabla_contingencia )\n",
    "\n",
    "# Resultados\n",
    "print(\"Chi-cuadrado:\", chi2)\n",
    "print(\"Valor p:\", p)\n",
    "print(\"Grados de libertad:\", dof)\n",
    "print(\"Frecuencia esperada:\\n\", expected)\n",
    "\n",
    "# Interpretación del resultado\n",
    "alpha = 0.05\n",
    "if p < alpha:\n",
    "    print(\"Se rechaza la hipótesis nula: hay asociación entre las variables.\")\n",
    "else:\n",
    "    print(\"No se rechaza la hipótesis nula: no hay asociación entre las variables.\")"
   ]
  },
  {
   "cell_type": "markdown",
   "metadata": {},
   "source": [
    "### ANOVA"
   ]
  },
  {
   "cell_type": "code",
   "execution_count": 44,
   "metadata": {},
   "outputs": [
    {
     "name": "stdout",
     "output_type": "stream",
     "text": [
      "Estadístico F: 57.964817590910116\n",
      "Valor p: 2.1832474151179777e-24\n",
      "Se rechaza la hipótesis nula: hay diferencias significativas entre las medias.\n"
     ]
    }
   ],
   "source": [
    "import numpy as np\n",
    "from scipy import stats\n",
    "\n",
    "# Agrupar los datos por 'Pclass'\n",
    "grupo1 = df['Survived'][df['Pclass'] == 1]  # Pasajeros de clase 1\n",
    "grupo2 = df['Survived'][df['Pclass'] == 2]  # Pasajeros de clase 2\n",
    "grupo3 = df['Survived'][df['Pclass'] == 3]  # Pasajeros de clase 3\n",
    "\n",
    "# Realizar ANOVA de un solo factor\n",
    "f_stat, p_value = stats.f_oneway(grupo1, grupo2, grupo3)\n",
    "\n",
    "# Resultados\n",
    "print(\"Estadístico F:\", f_stat)\n",
    "print(\"Valor p:\", p_value)\n",
    "\n",
    "# Interpretación del resultado\n",
    "alpha = 0.05\n",
    "if p_value < alpha:\n",
    "    print(\"Se rechaza la hipótesis nula: hay diferencias significativas entre las medias.\")\n",
    "else:\n",
    "    print(\"No se rechaza la hipótesis nula: no hay diferencias significativas entre las medias.\")\n"
   ]
  },
  {
   "cell_type": "code",
   "execution_count": 45,
   "metadata": {},
   "outputs": [
    {
     "data": {
      "text/plain": [
       "<Axes: xlabel='Survived', ylabel='Sex'>"
      ]
     },
     "execution_count": 45,
     "metadata": {},
     "output_type": "execute_result"
    },
    {
     "data": {
      "image/png": "[encoded data removed]",
      "text/plain": [
       "<Figure size 640x480 with 2 Axes>"
      ]
     },
     "metadata": {},
     "output_type": "display_data"
    }
   ],
   "source": [
    "#Survivement y Sex\n",
    "# Heatmap \n",
    "sns.color_palette(\"hls\", 8)\n",
    "sns.heatmap(pd.crosstab(df['Sex'], df['Survived'], normalize='index'), cmap=plt.get_cmap(\"tab10\"))"
   ]
  },
  {
   "cell_type": "markdown",
   "metadata": {},
   "source": [
    "### Chi Cuadrado"
   ]
  },
  {
   "cell_type": "code",
   "execution_count": 46,
   "metadata": {},
   "outputs": [
    {
     "name": "stdout",
     "output_type": "stream",
     "text": [
      "Chi-cuadrado: 260.71702016732104\n",
      "Valor p: 1.1973570627755645e-58\n",
      "Grados de libertad: 1\n",
      "Frecuencia esperada:\n",
      " [[193.47474747 120.52525253]\n",
      " [355.52525253 221.47474747]]\n",
      "Se rechaza la hipótesis nula: hay asociación entre las variables.\n"
     ]
    }
   ],
   "source": [
    "# Prueba de Chi cuadrado\n",
    "# Realizar la prueba de Chi-cuadrado\n",
    "from scipy.stats import chi2_contingency\n",
    "\n",
    "# Crear tabla de contingencia\n",
    "tabla_contingencia = pd.crosstab(df['Sex'], df['Survived'])\n",
    "\n",
    "chi2, p, dof, expected = chi2_contingency(tabla_contingencia )\n",
    "\n",
    "# Resultados\n",
    "print(\"Chi-cuadrado:\", chi2)\n",
    "print(\"Valor p:\", p)\n",
    "print(\"Grados de libertad:\", dof)\n",
    "print(\"Frecuencia esperada:\\n\", expected)\n",
    "\n",
    "# Interpretación del resultado\n",
    "alpha = 0.05\n",
    "if p < alpha:\n",
    "    print(\"Se rechaza la hipótesis nula: hay asociación entre las variables.\")\n",
    "else:\n",
    "    print(\"No se rechaza la hipótesis nula: no hay asociación entre las variables.\")\n"
   ]
  },
  {
   "cell_type": "code",
   "execution_count": 47,
   "metadata": {},
   "outputs": [
    {
     "data": {
      "text/plain": [
       "<Axes: xlabel='Survived', ylabel='SibSp'>"
      ]
     },
     "execution_count": 47,
     "metadata": {},
     "output_type": "execute_result"
    },
    {
     "data": {
      "image/png": "[encoded data removed]",
      "text/plain": [
       "<Figure size 640x480 with 2 Axes>"
      ]
     },
     "metadata": {},
     "output_type": "display_data"
    }
   ],
   "source": [
    "#Survivement y SibSp\n",
    "# Heatmap\n",
    "sns.heatmap(pd.crosstab(df['SibSp'], df['Survived'], normalize='index'), cmap=plt.get_cmap(\"tab10\"))"
   ]
  },
  {
   "cell_type": "markdown",
   "metadata": {},
   "source": [
    "### Chi Cuadrado"
   ]
  },
  {
   "cell_type": "code",
   "execution_count": 48,
   "metadata": {},
   "outputs": [
    {
     "name": "stdout",
     "output_type": "stream",
     "text": [
      "Chi-cuadrado: 37.2717929152043\n",
      "Valor p: 1.5585810465902147e-06\n",
      "Grados de libertad: 6\n",
      "Frecuencia esperada:\n",
      " [[374.62626263 233.37373737]\n",
      " [128.77777778  80.22222222]\n",
      " [ 17.25252525  10.74747475]\n",
      " [  9.85858586   6.14141414]\n",
      " [ 11.09090909   6.90909091]\n",
      " [  3.08080808   1.91919192]\n",
      " [  4.31313131   2.68686869]]\n",
      "Se rechaza la hipótesis nula: hay asociación entre las variables.\n"
     ]
    }
   ],
   "source": [
    "# Prueba de Chi cuadrado\n",
    "# Realizar la prueba de Chi-cuadrado\n",
    "from scipy.stats import chi2_contingency\n",
    "\n",
    "# Crear tabla de contingencia\n",
    "tabla_contingencia = pd.crosstab(df['SibSp'], df['Survived'])\n",
    "\n",
    "chi2, p, dof, expected = chi2_contingency(tabla_contingencia )\n",
    "\n",
    "# Resultados\n",
    "print(\"Chi-cuadrado:\", chi2)\n",
    "print(\"Valor p:\", p)\n",
    "print(\"Grados de libertad:\", dof)\n",
    "print(\"Frecuencia esperada:\\n\", expected)\n",
    "\n",
    "# Interpretación del resultado\n",
    "alpha = 0.05\n",
    "if p < alpha:\n",
    "    print(\"Se rechaza la hipótesis nula: hay asociación entre las variables.\")\n",
    "else:\n",
    "    print(\"No se rechaza la hipótesis nula: no hay asociación entre las variables.\")\n"
   ]
  },
  {
   "cell_type": "markdown",
   "metadata": {},
   "source": [
    "### ANOVA"
   ]
  },
  {
   "cell_type": "code",
   "execution_count": 49,
   "metadata": {},
   "outputs": [
    {
     "name": "stdout",
     "output_type": "stream",
     "text": [
      "Estadístico F: 12.382922977499323\n",
      "Valor p: 5.008837163779135e-06\n",
      "Se rechaza la hipótesis nula: hay diferencias significativas entre las medias.\n"
     ]
    }
   ],
   "source": [
    "import numpy as np\n",
    "from scipy import stats\n",
    "\n",
    "# Agrupar los datos por 'Pclass'\n",
    "grupo1 = df['Survived'][df['SibSp'] == 1]  \n",
    "grupo2 = df['Survived'][df['SibSp'] == 2]  \n",
    "grupo3 = df['Survived'][df['SibSp'] == 0]  \n",
    "\n",
    "# Realizar ANOVA de un solo factor\n",
    "f_stat, p_value = stats.f_oneway(grupo1, grupo2, grupo3)\n",
    "\n",
    "# Resultados\n",
    "print(\"Estadístico F:\", f_stat)\n",
    "print(\"Valor p:\", p_value)\n",
    "\n",
    "# Interpretación del resultado\n",
    "alpha = 0.05\n",
    "if p_value < alpha:\n",
    "    print(\"Se rechaza la hipótesis nula: hay diferencias significativas entre las medias.\")\n",
    "else:\n",
    "    print(\"No se rechaza la hipótesis nula: no hay diferencias significativas entre las medias.\")\n"
   ]
  },
  {
   "cell_type": "code",
   "execution_count": 50,
   "metadata": {},
   "outputs": [
    {
     "data": {
      "text/plain": [
       "<Axes: xlabel='Survived', ylabel='Parch'>"
      ]
     },
     "execution_count": 50,
     "metadata": {},
     "output_type": "execute_result"
    },
    {
     "data": {
      "image/png": "[encoded data removed]",
      "text/plain": [
       "<Figure size 640x480 with 2 Axes>"
      ]
     },
     "metadata": {},
     "output_type": "display_data"
    }
   ],
   "source": [
    "#Survivement y Parch\n",
    "# Heatmap \n",
    "sns.color_palette(\"hls\", 8)\n",
    "sns.heatmap(pd.crosstab(df['Parch'], df['Survived'], normalize='index'), cmap=plt.get_cmap(\"tab10\"))"
   ]
  },
  {
   "cell_type": "code",
   "execution_count": 51,
   "metadata": {},
   "outputs": [
    {
     "name": "stdout",
     "output_type": "stream",
     "text": [
      "Chi-cuadrado: 27.925784060236168\n",
      "Valor p: 9.703526421039996e-05\n",
      "Grados de libertad: 6\n",
      "Frecuencia esperada:\n",
      " [[4.17757576e+02 2.60242424e+02]\n",
      " [7.27070707e+01 4.52929293e+01]\n",
      " [4.92929293e+01 3.07070707e+01]\n",
      " [3.08080808e+00 1.91919192e+00]\n",
      " [2.46464646e+00 1.53535354e+00]\n",
      " [3.08080808e+00 1.91919192e+00]\n",
      " [6.16161616e-01 3.83838384e-01]]\n",
      "Se rechaza la hipótesis nula: hay asociación entre las variables.\n"
     ]
    }
   ],
   "source": [
    "# Prueba de Chi cuadrado\n",
    "# Realizar la prueba de Chi-cuadrado\n",
    "from scipy.stats import chi2_contingency\n",
    "\n",
    "# Crear tabla de contingencia\n",
    "tabla_contingencia = pd.crosstab(df['Parch'], df['Survived'])\n",
    "\n",
    "chi2, p, dof, expected = chi2_contingency(tabla_contingencia )\n",
    "\n",
    "# Resultados\n",
    "print(\"Chi-cuadrado:\", chi2)\n",
    "print(\"Valor p:\", p)\n",
    "print(\"Grados de libertad:\", dof)\n",
    "print(\"Frecuencia esperada:\\n\", expected)\n",
    "\n",
    "# Interpretación del resultado\n",
    "alpha = 0.05\n",
    "if p < alpha:\n",
    "    print(\"Se rechaza la hipótesis nula: hay asociación entre las variables.\")\n",
    "else:\n",
    "    print(\"No se rechaza la hipótesis nula: no hay asociación entre las variables.\")\n"
   ]
  },
  {
   "cell_type": "markdown",
   "metadata": {},
   "source": [
    "### ANOVA"
   ]
  },
  {
   "cell_type": "code",
   "execution_count": 52,
   "metadata": {},
   "outputs": [
    {
     "name": "stdout",
     "output_type": "stream",
     "text": [
      "Estadístico F: 0.2916101082888942\n",
      "Valor p: 0.7473768392839593\n",
      "No se rechaza la hipótesis nula: no hay diferencias significativas entre las medias.\n"
     ]
    }
   ],
   "source": [
    "import numpy as np\n",
    "from scipy import stats\n",
    "\n",
    "# Agrupar los datos por 'Pclass'\n",
    "grupo1 = df['Survived'][df['Parch'] == 1]  \n",
    "grupo2 = df['Survived'][df['Parch'] == 2]  \n",
    "grupo3 = df['Survived'][df['Parch'] == 3]  \n",
    "\n",
    "# Realizar ANOVA de un solo factor\n",
    "f_stat, p_value = stats.f_oneway(grupo1, grupo2, grupo3)\n",
    "\n",
    "# Resultados\n",
    "print(\"Estadístico F:\", f_stat)\n",
    "print(\"Valor p:\", p_value)\n",
    "\n",
    "# Interpretación del resultado\n",
    "alpha = 0.05\n",
    "if p_value < alpha:\n",
    "    print(\"Se rechaza la hipótesis nula: hay diferencias significativas entre las medias.\")\n",
    "else:\n",
    "    print(\"No se rechaza la hipótesis nula: no hay diferencias significativas entre las medias.\")\n"
   ]
  },
  {
   "cell_type": "code",
   "execution_count": 53,
   "metadata": {},
   "outputs": [
    {
     "data": {
      "text/plain": [
       "<Axes: xlabel='Survived', ylabel='Embarked'>"
      ]
     },
     "execution_count": 53,
     "metadata": {},
     "output_type": "execute_result"
    },
    {
     "data": {
      "image/png": "[encoded data removed]",
      "text/plain": [
       "<Figure size 640x480 with 2 Axes>"
      ]
     },
     "metadata": {},
     "output_type": "display_data"
    }
   ],
   "source": [
    "# Survivement y Embarked\n",
    "# Heatmap \n",
    "sns.color_palette(\"hls\", 8)\n",
    "sns.heatmap(pd.crosstab(df['Embarked'], df['Survived'], normalize='index'), cmap=plt.get_cmap(\"tab10\"))"
   ]
  },
  {
   "cell_type": "code",
   "execution_count": 54,
   "metadata": {},
   "outputs": [
    {
     "name": "stdout",
     "output_type": "stream",
     "text": [
      "Chi-cuadrado: 27.277791555577956\n",
      "Valor p: 1.193171371319345e-06\n",
      "Grados de libertad: 2\n",
      "Frecuencia esperada:\n",
      " [[104.13131313  64.86868687]\n",
      " [ 48.06060606  29.93939394]\n",
      " [396.80808081 247.19191919]]\n",
      "Se rechaza la hipótesis nula: hay asociación entre las variables.\n"
     ]
    }
   ],
   "source": [
    "# Prueba de Chi cuadrado\n",
    "# Realizar la prueba de Chi-cuadrado\n",
    "from scipy.stats import chi2_contingency\n",
    "\n",
    "# Crear tabla de contingencia\n",
    "tabla_contingencia = pd.crosstab(df['Embarked'], df['Survived'])\n",
    "\n",
    "chi2, p, dof, expected = chi2_contingency(tabla_contingencia )\n",
    "\n",
    "# Resultados\n",
    "print(\"Chi-cuadrado:\", chi2)\n",
    "print(\"Valor p:\", p)\n",
    "print(\"Grados de libertad:\", dof)\n",
    "print(\"Frecuencia esperada:\\n\", expected)\n",
    "\n",
    "# Interpretación del resultado\n",
    "alpha = 0.05\n",
    "if p < alpha:\n",
    "    print(\"Se rechaza la hipótesis nula: hay asociación entre las variables.\")\n",
    "else:\n",
    "    print(\"No se rechaza la hipótesis nula: no hay asociación entre las variables.\")\n"
   ]
  },
  {
   "cell_type": "markdown",
   "metadata": {},
   "source": [
    "### ANOVA"
   ]
  },
  {
   "cell_type": "code",
   "execution_count": 55,
   "metadata": {},
   "outputs": [
    {
     "name": "stdout",
     "output_type": "stream",
     "text": [
      "Estadístico F: 14.022262403660234\n",
      "Valor p: 1.0101685136937038e-06\n",
      "Se rechaza la hipótesis nula: hay diferencias significativas entre las medias.\n"
     ]
    }
   ],
   "source": [
    "import numpy as np\n",
    "from scipy import stats\n",
    "\n",
    "# Agrupar los datos por 'Pclass'\n",
    "grupo1 = df['Survived'][df['Embarked'] == \"S\"]  \n",
    "grupo2 = df['Survived'][df['Embarked'] == \"Q\"]  \n",
    "grupo3 = df['Survived'][df['Embarked'] == \"C\"]  \n",
    "\n",
    "# Realizar ANOVA de un solo factor\n",
    "f_stat, p_value = stats.f_oneway(grupo1, grupo2, grupo3)\n",
    "\n",
    "# Resultados\n",
    "print(\"Estadístico F:\", f_stat)\n",
    "print(\"Valor p:\", p_value)\n",
    "\n",
    "# Interpretación del resultado\n",
    "alpha = 0.05\n",
    "if p_value < alpha:\n",
    "    print(\"Se rechaza la hipótesis nula: hay diferencias significativas entre las medias.\")\n",
    "else:\n",
    "    print(\"No se rechaza la hipótesis nula: no hay diferencias significativas entre las medias.\")\n"
   ]
  },
  {
   "cell_type": "code",
   "execution_count": 56,
   "metadata": {},
   "outputs": [
    {
     "data": {
      "text/plain": [
       "<Axes: xlabel='Survived', ylabel='Fare Category'>"
      ]
     },
     "execution_count": 56,
     "metadata": {},
     "output_type": "execute_result"
    },
    {
     "data": {
      "image/png": "[encoded data removed]",
      "text/plain": [
       "<Figure size 640x480 with 2 Axes>"
      ]
     },
     "metadata": {},
     "output_type": "display_data"
    }
   ],
   "source": [
    "# Survivement y Fare Category\n",
    "# Heatmap \n",
    "sns.color_palette(\"hls\", 8)\n",
    "sns.heatmap(pd.crosstab(df['Fare Category'], df['Survived'], normalize='index'), cmap=plt.get_cmap(\"tab10\"))"
   ]
  },
  {
   "cell_type": "code",
   "execution_count": 57,
   "metadata": {},
   "outputs": [
    {
     "name": "stdout",
     "output_type": "stream",
     "text": [
      "Chi-cuadrado: 80.63699551282524\n",
      "Valor p: 2.2407589940901074e-17\n",
      "Grados de libertad: 3\n",
      "Frecuencia esperada:\n",
      " [[148.49494949  92.50505051]\n",
      " [133.70707071  83.29292929]\n",
      " [130.01010101  80.98989899]\n",
      " [136.78787879  85.21212121]]\n",
      "Se rechaza la hipótesis nula: hay asociación entre las variables.\n"
     ]
    }
   ],
   "source": [
    "# Prueba de Chi cuadrado\n",
    "# Realizar la prueba de Chi-cuadrado\n",
    "from scipy.stats import chi2_contingency\n",
    "\n",
    "# Crear tabla de contingencia\n",
    "tabla_contingencia = pd.crosstab(df['Fare Category'], df['Survived'])\n",
    "\n",
    "chi2, p, dof, expected = chi2_contingency(tabla_contingencia )\n",
    "\n",
    "# Resultados\n",
    "print(\"Chi-cuadrado:\", chi2)\n",
    "print(\"Valor p:\", p)\n",
    "print(\"Grados de libertad:\", dof)\n",
    "print(\"Frecuencia esperada:\\n\", expected)\n",
    "\n",
    "# Interpretación del resultado\n",
    "alpha = 0.05\n",
    "if p < alpha:\n",
    "    print(\"Se rechaza la hipótesis nula: hay asociación entre las variables.\")\n",
    "else:\n",
    "    print(\"No se rechaza la hipótesis nula: no hay asociación entre las variables.\")\n"
   ]
  },
  {
   "cell_type": "markdown",
   "metadata": {},
   "source": [
    "### ANOVA"
   ]
  },
  {
   "cell_type": "code",
   "execution_count": 58,
   "metadata": {},
   "outputs": [
    {
     "name": "stdout",
     "output_type": "stream",
     "text": [
      "Estadístico F: 20.882610704152636\n",
      "Valor p: 1.6274155595629213e-09\n",
      "Se rechaza la hipótesis nula: hay diferencias significativas entre las medias.\n"
     ]
    }
   ],
   "source": [
    "import numpy as np\n",
    "from scipy import stats\n",
    "\n",
    "# Agrupar los datos por 'Pclass'\n",
    "grupo1 = df['Survived'][df['Fare Category'] == \"alto\"]  \n",
    "grupo2 = df['Survived'][df['Fare Category'] == \"medio-alto\"]  \n",
    "grupo3 = df['Survived'][df['Fare Category'] == \"medio\"]  \n",
    "\n",
    "# Realizar ANOVA de un solo factor\n",
    "f_stat, p_value = stats.f_oneway(grupo1, grupo2, grupo3)\n",
    "\n",
    "# Resultados\n",
    "print(\"Estadístico F:\", f_stat)\n",
    "print(\"Valor p:\", p_value)\n",
    "\n",
    "# Interpretación del resultado\n",
    "alpha = 0.05\n",
    "if p_value < alpha:\n",
    "    print(\"Se rechaza la hipótesis nula: hay diferencias significativas entre las medias.\")\n",
    "else:\n",
    "    print(\"No se rechaza la hipótesis nula: no hay diferencias significativas entre las medias.\")\n"
   ]
  },
  {
   "cell_type": "code",
   "execution_count": 59,
   "metadata": {},
   "outputs": [
    {
     "data": {
      "text/plain": [
       "<Axes: xlabel='Survived', ylabel='Age Category'>"
      ]
     },
     "execution_count": 59,
     "metadata": {},
     "output_type": "execute_result"
    },
    {
     "data": {
      "image/png": "[encoded data removed]",
      "text/plain": [
       "<Figure size 640x480 with 2 Axes>"
      ]
     },
     "metadata": {},
     "output_type": "display_data"
    }
   ],
   "source": [
    "# Survivement y Age Category\n",
    "# Heatmap \n",
    "sns.color_palette(\"hls\", 8)\n",
    "sns.heatmap(pd.crosstab(df['Age Category'], df['Survived'], normalize='index'), cmap=plt.get_cmap(\"tab10\"))"
   ]
  },
  {
   "cell_type": "code",
   "execution_count": 60,
   "metadata": {},
   "outputs": [
    {
     "name": "stdout",
     "output_type": "stream",
     "text": [
      "Chi-cuadrado: 30.32495398225454\n",
      "Valor p: 8.27716066019009e-05\n",
      "Grados de libertad: 7\n",
      "Frecuencia esperada:\n",
      " [[  8.62626263   5.37373737]\n",
      " [  9.85858586   6.14141414]\n",
      " [  8.62626263   5.37373737]\n",
      " [ 15.4040404    9.5959596 ]\n",
      " [ 43.13131313  26.86868687]\n",
      " [ 99.81818182  62.18181818]\n",
      " [356.75757576 222.24242424]\n",
      " [  6.77777778   4.22222222]]\n",
      "Se rechaza la hipótesis nula: hay asociación entre las variables.\n"
     ]
    }
   ],
   "source": [
    "# Prueba de Chi cuadrado\n",
    "# Realizar la prueba de Chi-cuadrado\n",
    "from scipy.stats import chi2_contingency\n",
    "\n",
    "# Crear tabla de contingencia\n",
    "tabla_contingencia = pd.crosstab(df['Age Category'], df['Survived'])\n",
    "\n",
    "chi2, p, dof, expected = chi2_contingency(tabla_contingencia )\n",
    "\n",
    "# Resultados\n",
    "print(\"Chi-cuadrado:\", chi2)\n",
    "print(\"Valor p:\", p)\n",
    "print(\"Grados de libertad:\", dof)\n",
    "print(\"Frecuencia esperada:\\n\", expected)\n",
    "\n",
    "# Interpretación del resultado\n",
    "alpha = 0.05\n",
    "if p < alpha:\n",
    "    print(\"Se rechaza la hipótesis nula: hay asociación entre las variables.\")\n",
    "else:\n",
    "    print(\"No se rechaza la hipótesis nula: no hay asociación entre las variables.\")\n"
   ]
  },
  {
   "cell_type": "markdown",
   "metadata": {},
   "source": [
    "### ANOVA"
   ]
  },
  {
   "cell_type": "code",
   "execution_count": 61,
   "metadata": {},
   "outputs": [
    {
     "name": "stdout",
     "output_type": "stream",
     "text": [
      "Estadístico F: nan\n",
      "Valor p: nan\n",
      "No se rechaza la hipótesis nula: no hay diferencias significativas entre las medias.\n"
     ]
    },
    {
     "name": "stderr",
     "output_type": "stream",
     "text": [
      "c:\\Users\\Usuario\\AppData\\Local\\Programs\\Python\\Python312\\Lib\\site-packages\\scipy\\stats\\_stats_py.py:4133: DegenerateDataWarning: at least one input has length 0\n",
      "  warnings.warn(stats.DegenerateDataWarning('at least one input '\n"
     ]
    }
   ],
   "source": [
    "import numpy as np\n",
    "from scipy import stats\n",
    "\n",
    "# Agrupar los datos por 'Pclass'\n",
    "grupo1 = df['Survived'][df['Age Category'] == \"baby\"]  \n",
    "grupo2 = df['Survived'][df['Age Category'] == \"toddler\"]  \n",
    "grupo3 = df['Survived'][df['Age Category'] == \"preschool\"]  \n",
    "\n",
    "# Realizar ANOVA de un solo factor\n",
    "f_stat, p_value = stats.f_oneway(grupo1, grupo2, grupo3)\n",
    "\n",
    "# Resultados\n",
    "print(\"Estadístico F:\", f_stat)\n",
    "print(\"Valor p:\", p_value)\n",
    "\n",
    "# Interpretación del resultado\n",
    "alpha = 0.05\n",
    "if p_value < alpha:\n",
    "    print(\"Se rechaza la hipótesis nula: hay diferencias significativas entre las medias.\")\n",
    "else:\n",
    "    print(\"No se rechaza la hipótesis nula: no hay diferencias significativas entre las medias.\")\n"
   ]
  },
  {
   "cell_type": "code",
   "execution_count": 62,
   "metadata": {},
   "outputs": [
    {
     "data": {
      "text/plain": [
       "<Axes: xlabel='Survived', ylabel='Title Name'>"
      ]
     },
     "execution_count": 62,
     "metadata": {},
     "output_type": "execute_result"
    },
    {
     "data": {
      "image/png": "[encoded data removed]",
      "text/plain": [
       "<Figure size 640x480 with 2 Axes>"
      ]
     },
     "metadata": {},
     "output_type": "display_data"
    }
   ],
   "source": [
    "# Survivement y Title Name\n",
    "# Heatmap \n",
    "sns.color_palette(\"hls\", 8)\n",
    "sns.heatmap(pd.crosstab(df['Title Name'], df['Survived'], normalize='index'), cmap=plt.get_cmap(\"tab10\"))"
   ]
  },
  {
   "cell_type": "code",
   "execution_count": 63,
   "metadata": {},
   "outputs": [
    {
     "name": "stdout",
     "output_type": "stream",
     "text": [
      "Chi-cuadrado: 0.20854117234685074\n",
      "Valor p: 0.6479132287275894\n",
      "Grados de libertad: 1\n",
      "Frecuencia esperada:\n",
      " [[532.36363636 331.63636364]\n",
      " [ 16.63636364  10.36363636]]\n",
      "No se rechaza la hipótesis nula: no hay asociación entre las variables.\n"
     ]
    }
   ],
   "source": [
    "# Prueba de Chi cuadrado\n",
    "# Realizar la prueba de Chi-cuadrado\n",
    "from scipy.stats import chi2_contingency\n",
    "\n",
    "# Crear tabla de contingencia\n",
    "tabla_contingencia = pd.crosstab(df['Title Name'], df['Survived'])\n",
    "\n",
    "chi2, p, dof, expected = chi2_contingency(tabla_contingencia )\n",
    "\n",
    "# Resultados\n",
    "print(\"Chi-cuadrado:\", chi2)\n",
    "print(\"Valor p:\", p)\n",
    "print(\"Grados de libertad:\", dof)\n",
    "print(\"Frecuencia esperada:\\n\", expected)\n",
    "\n",
    "# Interpretación del resultado\n",
    "alpha = 0.05\n",
    "if p < alpha:\n",
    "    print(\"Se rechaza la hipótesis nula: hay asociación entre las variables.\")\n",
    "else:\n",
    "    print(\"No se rechaza la hipótesis nula: no hay asociación entre las variables.\")\n"
   ]
  },
  {
   "cell_type": "markdown",
   "metadata": {},
   "source": [
    "## Interaction Analysis "
   ]
  },
  {
   "cell_type": "code",
   "execution_count": null,
   "metadata": {},
   "outputs": [],
   "source": []
  },
  {
   "cell_type": "markdown",
   "metadata": {},
   "source": [
    "# Data bias analysis"
   ]
  },
  {
   "cell_type": "code",
   "execution_count": null,
   "metadata": {},
   "outputs": [],
   "source": []
  },
  {
   "cell_type": "markdown",
   "metadata": {},
   "source": [
    "# Exploracion multivariante"
   ]
  },
  {
   "cell_type": "code",
   "execution_count": null,
   "metadata": {},
   "outputs": [],
   "source": [
    "from sklearn import ensemble\n",
    "from sklearn.metrics import log_loss\n",
    "from sklearn.model_selection import KFold, train_test_split\n",
    "\n",
    "\n"
   ]
  }
 ],
 "metadata": {
  "kernelspec": {
   "display_name": "Python 3",
   "language": "python",
   "name": "python3"
  },
  "language_info": {
   "codemirror_mode": {
    "name": "ipython",
    "version": 3
   },
   "file_extension": ".py",
   "mimetype": "text/x-python",
   "name": "python",
   "nbconvert_exporter": "python",
   "pygments_lexer": "ipython3",
   "version": "3.12.6"
  }
 },
 "nbformat": 4,
 "nbformat_minor": 2
}
